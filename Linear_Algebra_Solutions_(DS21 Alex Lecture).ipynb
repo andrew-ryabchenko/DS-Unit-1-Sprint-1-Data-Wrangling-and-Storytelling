{
  "nbformat": 4,
  "nbformat_minor": 0,
  "metadata": {
    "colab": {
      "name": "Linear Algebra Solutions (DS21).ipynb",
      "provenance": [],
      "include_colab_link": true
    },
    "kernelspec": {
      "name": "python3",
      "display_name": "Python 3"
    }
  },
  "cells": [
    {
      "cell_type": "markdown",
      "metadata": {
        "id": "view-in-github",
        "colab_type": "text"
      },
      "source": [
        "<a href=\"https://colab.research.google.com/github/andrew-ryabchenko/DS-Unit-1-Sprint-1-Data-Wrangling-and-Storytelling/blob/master/Linear_Algebra_Solutions_(DS21%20Alex%20Lecture).ipynb\" target=\"_parent\"><img src=\"https://colab.research.google.com/assets/colab-badge.svg\" alt=\"Open In Colab\"/></a>"
      ]
    },
    {
      "cell_type": "markdown",
      "metadata": {
        "id": "sQwDjRST0bxm"
      },
      "source": [
        "# Linear Algebra Solutions\n",
        "\n",
        "## Objectives\n",
        "\n",
        "- Define a vector and calculate a vector length and dot product\n",
        "- Define a matrix and calculate a matrix dot product, transpose, and inverse\n",
        "- Use linear algebra to solve for linear regression coefficients\n",
        "- Explain cosine similarity and compute the similarity between two vectors\n"
      ]
    },
    {
      "cell_type": "markdown",
      "metadata": {
        "id": "P1wyKUbyoFmR"
      },
      "source": [
        "## Yesterday...\n",
        "\n",
        "We built a linear model where we determined that long bone nitrogen composition and burial application of Quicklime (yes or no) were the best predictors of length of interment.\n",
        "\n",
        "That was a good practical exercise in model building, but it should leave us with two big questions.\n",
        "\n",
        "\n",
        "\n",
        "1.   What was the computer doing \"behind the scenes\" to calculate the slope and intercept from our data?\n",
        "2.   What would we do if we had so many predictors we could never evaluate each \"by hand\" the way we did in the longbones example.\n",
        "\n",
        "\n",
        "\n"
      ]
    },
    {
      "cell_type": "markdown",
      "metadata": {
        "id": "0qSIFjkmO5eo"
      },
      "source": [
        "## Linear Algebra - Introduction\n",
        "\n",
        "> **What was the computer doing \"behind the scenes\" to calculate the slope and intercept from our data?**\n",
        "\n",
        "The above is a question that you should be asking youself through this course. While computers are fast and accurate, they can only do what we ask them to do. It's the human's job to understand *what* we are asking the computer to do.\n",
        "\n",
        "So far, the computer has been handling all of the math (and linear algebra) operations. But, now it's our turn to learn a little more about these concepts and how we apply them to learn about data.\n",
        "\n"
      ]
    },
    {
      "cell_type": "markdown",
      "metadata": {
        "id": "Oa665BnQwU80"
      },
      "source": [
        "### Scalars\n",
        "\n",
        "A simple, singular value. In the context of linear algebra scalars are usually quantities that **scale** vectors.\n",
        "\n",
        "- Variables representing scalars are typically written in lower case.\n",
        "\n",
        "- Scalars can be whole numbers or decimals.\n",
        "\n",
        "\\begin{align}\n",
        "a = 2\n",
        "\\qquad\n",
        "b = 4.815162342\n",
        "\\end{align}\n",
        "\n",
        "- They can be positive, negative, 0 or any other real number.\n",
        "\n",
        "\\begin{align}\n",
        "c = -6.022\\mathrm{e}{+23}\n",
        "\\qquad\n",
        "d = \\pi\n",
        "\\end{align}"
      ]
    },
    {
      "cell_type": "markdown",
      "metadata": {
        "id": "GV3ZKiWuwPPz"
      },
      "source": [
        "### Vectors\n",
        "\n",
        "A quantity possessing both magnitude and direction\n",
        "\n",
        "A vector of dimension $n$ is an **ordered** collection of $n$ elements, which are called **components**\n",
        "\n",
        "- *Note, the components of a vector are **not** referred to as \"scalars\"*\n",
        "\n",
        "- Vector notation variables are commonly written as a bold-faced lowercase letters or italicized non-bold-faced lowercase characters with an arrow (→) above the letters:\n",
        "\n",
        "Written: $\\vec{v}$ \n",
        "\n",
        "Examples:\n",
        "\n",
        "\\begin{align}\n",
        "   \\vec{a} = \n",
        "   \\begin{bmatrix}\n",
        "           1\\\\\n",
        "           2\n",
        "    \\end{bmatrix}\n",
        "    \\qquad\n",
        "    \\vec{b} =\n",
        "    \\begin{bmatrix}\n",
        "          -1\\\\\n",
        "           0\\\\\n",
        "           2\n",
        "    \\end{bmatrix}\n",
        "    \\qquad\n",
        "    \\vec{c} =\n",
        "    \\begin{bmatrix}\n",
        "           4.5\n",
        "    \\end{bmatrix}\n",
        "    \\qquad\n",
        "    \\vec{d} =\n",
        "    \\begin{bmatrix}\n",
        "           Pl\\\\\n",
        "           a\\\\\n",
        "           b\\\\\n",
        "           \\frac{2}{3}\n",
        "    \\end{bmatrix}\n",
        "\\end{align}\n",
        "\n",
        "The above vectors have dimensions 2, 3, 1, and 4 respectively.\n",
        "\n"
      ]
    },
    {
      "cell_type": "markdown",
      "metadata": {
        "id": "bwRJ1beGyEfd"
      },
      "source": [
        "A two-dimensional vector is easy to plot:"
      ]
    },
    {
      "cell_type": "code",
      "metadata": {
        "id": "dC1ZEpq-PC1f",
        "outputId": "82491d85-dd65-41f1-dc1d-e71d9709ff1b",
        "colab": {
          "base_uri": "https://localhost:8080/",
          "height": 269
        }
      },
      "source": [
        "import matplotlib.pyplot as plt\n",
        "\n",
        "# Create the vector\n",
        "vector = [3, 4]\n",
        "\n",
        "plt.arrow(0, 0, vector[0], vector[1], width=.05)\n",
        "plt.ylim(0, 5);\n",
        "plt.xlim(0, 4);"
      ],
      "execution_count": null,
      "outputs": [
        {
          "output_type": "display_data",
          "data": {
            "image/png": "[encoded data removed]",
            "text/plain": [
              "<Figure size 432x288 with 1 Axes>"
            ]
          },
          "metadata": {
            "tags": [],
            "needs_background": "light"
          }
        }
      ]
    },
    {
      "cell_type": "markdown",
      "metadata": {
        "id": "27Kl2o36QC49"
      },
      "source": [
        "We just plotted a two-dimensional vector. But vectors can have many more dimensions! Here is a 10-dimensional vector:\n",
        "\n",
        "$$\\vec{a} = \\begin{bmatrix}3 & 4 & 5 & 9 & 2 & 5 & 3 & 8 & 2 &6\\end{bmatrix}$$\n",
        "\n",
        "How would we plot this vector? We've could plot a three-dimensional vector if we added another dimension to our first plot above. But we can't really create plots for a vector with more than three dimensions.\n",
        "\n",
        "But, this doesn't stop us from using vectors, representing our data in vector form, and doing various mathemetical operations with vectors."
      ]
    },
    {
      "cell_type": "markdown",
      "metadata": {
        "id": "yQM0DIYQy42r"
      },
      "source": [
        "## Vector Math\n",
        "\n",
        "There are many excellent introductions to linear algebra so we'll keep this section short."
      ]
    },
    {
      "cell_type": "markdown",
      "metadata": {
        "id": "9km3ysT5y0g9"
      },
      "source": [
        "### Norm of a Vector (Magnitude or Length)\n",
        "\n",
        "The **Norm** or **Magnitude** of a vector is nothing more than the **length** of the vector.\n",
        "\n",
        "\n",
        "- We denote the norm of a vector by wrapping it in double pipes (like double absolute value signs):\n",
        "\n",
        "Written: $||v||$ \n",
        "\n",
        "**The Equation for the norm of a vector is just Pythagorean Theorem extended to n dimensions**:\n",
        "\n",
        "$a^2 + b^2 = c^2$\n",
        "\n",
        "a = one side of a right triangle\n",
        "\n",
        "b = the other side\n",
        "\n",
        "c = the \"hypotenuse\" of a right triangle (We consider the vector that we're looking at to be the hypotenuse of a triangle\n",
        "\n",
        "![Pythagorean Theorem](http://mathworld.wolfram.com/images/eps-gif/PythagoreanTheoremFigure_1000.gif)\n",
        "\n",
        "$c = \\sqrt{a^2 + b^2}$\n",
        "\n",
        "We're essentially just generalizing the equation for the hypotenuse of a triangle that results from the pythagorean theorem to  𝑛  dimensional space:\n",
        "\n"
      ]
    },
    {
      "cell_type": "markdown",
      "metadata": {
        "id": "R5nn0Yn40s1q"
      },
      "source": [
        "For the norm of $\\vec{a} =\\begin{bmatrix}3 & 4\\end{bmatrix}$:\n",
        "\n",
        "$$||\\vec{a}|| = \\sqrt{a_1^2 + a_2^2} = \\sqrt{4^2 + 3 ^2} = \\sqrt{16+9} = \\sqrt{25} = 5$$"
      ]
    },
    {
      "cell_type": "markdown",
      "metadata": {
        "id": "jElON2BKyo3z"
      },
      "source": [
        "### Vector Dot Product\n",
        "\n",
        "The dot product is a kind of multiplication where we're *applying* one vector to another; let's look at the math now let the conceptual understanding come later.\n",
        "\n",
        "We'll calculate the dot product for vectors $\\vec{b}$ and $\\vec{c}$:\n",
        "\n",
        "$$\n",
        "\\vec{b} = \\begin{bmatrix}4 & 8 & 5\\end{bmatrix}\n",
        "\\qquad\n",
        "\\vec{c} = \\begin{bmatrix} 6 & 2 & 5\\end{bmatrix}\n",
        "$$\n",
        "\n",
        "The dot product notation looks like this:\n",
        "\n",
        "$$\\vec{b} \\cdot \\vec{c}$$\n",
        "\n",
        "It represents the sum of the element-wise multiplication of the two vectors: \n",
        "\n",
        "$$\\vec{b} \\cdot \\vec{c} = b_{1}c_{1} + b_{2}c_{2} + b_{3}c_{3}$$\n",
        "$$ = (4)(6) + (8)(2) + (5)(5) $$\n",
        "$$ = 24 + 16 + 25 $$\n",
        "$$ = 65 $$"
      ]
    },
    {
      "cell_type": "markdown",
      "metadata": {
        "id": "l7tAI1Vt3tfa"
      },
      "source": [
        "- The dot product is commutative: $ a \\cdot b = b \\cdot a$\n",
        "\n",
        "- The dot product is distributive: $a \\cdot (b + c) = a \\cdot b + a \\cdot c$\n",
        "\n",
        "- Two vectors must have the same number of components in order for the dot product to exist. If their lengths differ the dot product is undefined."
      ]
    },
    {
      "cell_type": "markdown",
      "metadata": {
        "id": "PqAzwPFqscxy"
      },
      "source": [
        "That's a quick overview of vectors and some of the mathematical operations. Now, what if we consider a data structure that contains more than one vector? "
      ]
    },
    {
      "cell_type": "markdown",
      "metadata": {
        "id": "_3uzRFr5_53h"
      },
      "source": [
        "###Matricies"
      ]
    },
    {
      "cell_type": "markdown",
      "metadata": {
        "id": "dKYeFAUbaP4j"
      },
      "source": [
        "A **matrix** is a rectangular grid of numbers arranged in rows and columns. Variables that represent matrices are typically written as capital letters (boldfaced as well if you want to be super formal).\n",
        "\n",
        "\\begin{align}\n",
        "A = \n",
        "    \\begin{bmatrix}\n",
        "           1 & 2 & 3\\\\\n",
        "           4 & 5 & 6\\\\\n",
        "           7 & 8 & 9\n",
        "    \\end{bmatrix}\n",
        "    \\qquad\n",
        "    B = \\begin{bmatrix}\n",
        "           1 & 2 & 3\\\\\n",
        "           4 & 5 & 6\n",
        "    \\end{bmatrix}\n",
        " \\end{align}\n"
      ]
    },
    {
      "cell_type": "markdown",
      "metadata": {
        "id": "4oKAHHil-0bm"
      },
      "source": [
        "The number of rows and columns that a matrix has is called its **dimension**.\n",
        "\n",
        "When listing the dimension of a matrix we always list rows first and then columns. \n",
        "\n",
        "The dimension of matrix A is 3x3. (Note: This is read \"Three by Three\", the 'x' isn't a multiplication sign.)"
      ]
    },
    {
      "cell_type": "markdown",
      "metadata": {
        "id": "qboshEi2zbh9"
      },
      "source": [
        "## Using linear algebra to model the relationship of long bone nitrogen composition to interment time."
      ]
    },
    {
      "cell_type": "markdown",
      "metadata": {
        "id": "6UaV8JLt-0EU"
      },
      "source": [
        "In linear regression, the formula that relates every value of x to its value of y is  \n",
        "\n",
        "$$y_i = b_0 + b_1x_i + \\epsilon_i$$\n",
        "\n",
        "Where $y_i$ is y value for the ith individual, $x_i$ is the x-value for the ith individual and $\\epsilon_i$ is the residual for the ith individual.  \n",
        "\n"
      ]
    },
    {
      "cell_type": "markdown",
      "metadata": {
        "id": "6fOMAr4OCTjQ"
      },
      "source": [
        "###We input all the values of $x_i$ and $y_i$ into matricies and use those to solve for $b_0$ and $b_1$"
      ]
    },
    {
      "cell_type": "code",
      "metadata": {
        "id": "sJegaDmRn0a6",
        "outputId": "b91ed1d4-3a21-440b-9b63-f9bbb0d8ba05",
        "colab": {
          "base_uri": "https://localhost:8080/",
          "height": 198
        }
      },
      "source": [
        "#Import the Longbones.csv dataset from a URL and print the first few rows\n",
        "\n",
        "import pandas as pd\n",
        "import numpy as np\n",
        "\n",
        "\n",
        "data_url = 'https://raw.githubusercontent.com/LambdaSchool/data-science-practice-datasets/main/unit_1/Longbones/Longbones.csv'\n",
        "\n",
        "df = pd.read_csv(data_url, skipinitialspace=True, header=0)\n",
        "\n",
        "#Drop records with NAs and rename the dataset longbones\n",
        "\n",
        "longbones = df.dropna()\n",
        "\n",
        "longbones.head()"
      ],
      "execution_count": null,
      "outputs": [
        {
          "output_type": "execute_result",
          "data": {
            "text/html": [
              "<div>\n",
              "<style scoped>\n",
              "    .dataframe tbody tr th:only-of-type {\n",
              "        vertical-align: middle;\n",
              "    }\n",
              "\n",
              "    .dataframe tbody tr th {\n",
              "        vertical-align: top;\n",
              "    }\n",
              "\n",
              "    .dataframe thead th {\n",
              "        text-align: right;\n",
              "    }\n",
              "</style>\n",
              "<table border=\"1\" class=\"dataframe\">\n",
              "  <thead>\n",
              "    <tr style=\"text-align: right;\">\n",
              "      <th></th>\n",
              "      <th>Site</th>\n",
              "      <th>Time</th>\n",
              "      <th>Depth</th>\n",
              "      <th>Lime</th>\n",
              "      <th>Age</th>\n",
              "      <th>Nitro</th>\n",
              "      <th>Oil</th>\n",
              "    </tr>\n",
              "  </thead>\n",
              "  <tbody>\n",
              "    <tr>\n",
              "      <th>3</th>\n",
              "      <td>1</td>\n",
              "      <td>71.8</td>\n",
              "      <td>7.6</td>\n",
              "      <td>1</td>\n",
              "      <td>65.0</td>\n",
              "      <td>3.88</td>\n",
              "      <td>0</td>\n",
              "    </tr>\n",
              "    <tr>\n",
              "      <th>4</th>\n",
              "      <td>1</td>\n",
              "      <td>70.6</td>\n",
              "      <td>7.5</td>\n",
              "      <td>1</td>\n",
              "      <td>42.0</td>\n",
              "      <td>3.53</td>\n",
              "      <td>0</td>\n",
              "    </tr>\n",
              "    <tr>\n",
              "      <th>5</th>\n",
              "      <td>1</td>\n",
              "      <td>68.0</td>\n",
              "      <td>7.0</td>\n",
              "      <td>1</td>\n",
              "      <td>28.0</td>\n",
              "      <td>3.93</td>\n",
              "      <td>0</td>\n",
              "    </tr>\n",
              "    <tr>\n",
              "      <th>6</th>\n",
              "      <td>1</td>\n",
              "      <td>71.6</td>\n",
              "      <td>8.0</td>\n",
              "      <td>1</td>\n",
              "      <td>35.0</td>\n",
              "      <td>3.88</td>\n",
              "      <td>0</td>\n",
              "    </tr>\n",
              "    <tr>\n",
              "      <th>7</th>\n",
              "      <td>1</td>\n",
              "      <td>70.2</td>\n",
              "      <td>6.0</td>\n",
              "      <td>1</td>\n",
              "      <td>44.0</td>\n",
              "      <td>3.64</td>\n",
              "      <td>0</td>\n",
              "    </tr>\n",
              "  </tbody>\n",
              "</table>\n",
              "</div>"
            ],
            "text/plain": [
              "   Site  Time  Depth  Lime   Age  Nitro  Oil\n",
              "3     1  71.8    7.6     1  65.0   3.88    0\n",
              "4     1  70.6    7.5     1  42.0   3.53    0\n",
              "5     1  68.0    7.0     1  28.0   3.93    0\n",
              "6     1  71.6    8.0     1  35.0   3.88    0\n",
              "7     1  70.2    6.0     1  44.0   3.64    0"
            ]
          },
          "metadata": {
            "tags": []
          },
          "execution_count": 2
        }
      ]
    },
    {
      "cell_type": "markdown",
      "metadata": {
        "id": "p8feaZbJAqJH"
      },
      "source": [
        "Regression model for the $i$th individual\n",
        "\n",
        "$$y_i = b_0 + b_1x_i + \\epsilon_i$$\n",
        "\n",
        "For the first individual in the longbones, dataset, \n",
        "\n",
        "$$y_1 = b_0 + b_1x_1 +\\epsilon_1$$\n",
        "\n",
        "$$71.8 = b_0 + b_1(3.88) + \\epsilon_1$$\n",
        "\n",
        "$\\qquad$\n",
        "\n",
        "For the second individual...\n",
        "\n",
        "$$70.6 = b_0 + b_1(3.53) + \\epsilon_2$$"
      ]
    },
    {
      "cell_type": "markdown",
      "metadata": {
        "id": "N4h5H3koDpAY"
      },
      "source": [
        "To simplify the notation, we can put all the x-values into a matrix we call X and all the y-values into a matrix we call Y."
      ]
    },
    {
      "cell_type": "markdown",
      "metadata": {
        "id": "8QdKvY49D4kE"
      },
      "source": [
        "\\begin{align}\n",
        "  Y = \n",
        "\\begin{bmatrix}\n",
        "  71.8 \\\\\n",
        "  70.6 \\\\\n",
        "  68.0 \\\\\n",
        "  71.6 \\\\\n",
        "  70.2 \\\\\n",
        "  ...\n",
        "\\end{bmatrix} \n",
        "  \\qquad\n",
        "  X = \n",
        "  \\begin{bmatrix}\n",
        "  1 \\quad 3.88 \\\\\n",
        "  1 \\quad 3.53  \\\\\n",
        "  1 \\quad 3.93  \\\\\n",
        "  1 \\quad 3.88  \\\\\n",
        "  1 \\quad 3.64  \\\\\n",
        "  1 \\quad ...\n",
        "  \\end{bmatrix}\n",
        "\\end{align}"
      ]
    },
    {
      "cell_type": "markdown",
      "metadata": {
        "id": "6GrgUQOk0sTH"
      },
      "source": [
        "\n",
        "\n",
        "We can also put our regression coefficients and residuals in matricies:\n",
        "\n",
        "\\begin{align}\n",
        "  B = \n",
        "\\begin{bmatrix}\n",
        "  b_0 \\\\\n",
        "  b_1 \\\\\n",
        "\\end{bmatrix} \n",
        "  \\qquad\n",
        "  \\epsilon = \n",
        "  \\begin{bmatrix}\n",
        "  \\epsilon_1 \\\\\n",
        "  \\epsilon_2  \\\\\n",
        "  \\epsilon_3  \\\\\n",
        "  \\epsilon_4  \\\\\n",
        "  \\epsilon_5  \\\\\n",
        "  ...\n",
        "  \\end{bmatrix}\n",
        "\\end{align}\n",
        "\n"
      ]
    },
    {
      "cell_type": "markdown",
      "metadata": {
        "id": "M3wnOtutIMoa"
      },
      "source": [
        "The regression model in matrix form is:\n",
        "\n",
        "$$Y = XB + E$$\n"
      ]
    },
    {
      "cell_type": "markdown",
      "metadata": {
        "id": "ryYF1XsOJl4a"
      },
      "source": [
        "\\begin{align}\n",
        "\\begin{bmatrix}\n",
        "  71.8 \\\\\n",
        "  70.6 \\\\\n",
        "  68.0 \\\\\n",
        "  71.6 \\\\\n",
        "  70.2 \\\\\n",
        "  ...\n",
        "\\end{bmatrix} \n",
        "   = \n",
        "   \\begin{bmatrix}\n",
        "  1 \\quad 3.88 \\\\\n",
        "  1 \\quad 3.53  \\\\\n",
        "  1 \\quad 3.93  \\\\\n",
        "  1 \\quad 3.88  \\\\\n",
        "  1 \\quad 3.64  \\\\\n",
        "  1 \\quad ...\n",
        "\\end{bmatrix}\n",
        "\\begin{bmatrix}\n",
        "  b_0 \\\\\n",
        "  b_1 \\\\\n",
        "\\end{bmatrix} \n",
        "  +\n",
        "\\begin{bmatrix}\n",
        "  \\epsilon_1 \\\\\n",
        "  \\epsilon_2  \\\\\n",
        "  \\epsilon_3  \\\\\n",
        "  \\epsilon_4  \\\\\n",
        "  \\epsilon_5  \\\\\n",
        "  ...\n",
        "\\end{bmatrix}\n",
        "\\end{align}"
      ]
    },
    {
      "cell_type": "markdown",
      "metadata": {
        "id": "fH0mrztHNjzI"
      },
      "source": [
        "###Matrix addition works element-wise\n",
        "\n",
        "\\begin{align}\n",
        "\\begin{bmatrix}\n",
        "  2 \\\\\n",
        "  5 \\\\\n",
        "  9 \\\\\n",
        "  1 \\\\\n",
        "  6 \\\\\n",
        "\\end{bmatrix} \n",
        "+\n",
        "\\begin{bmatrix}\n",
        "  1 \\\\\n",
        "  3 \\\\\n",
        "  11 \\\\\n",
        "  2 \\\\\n",
        "  0 \\\\\n",
        "\\end{bmatrix} \n",
        "   = \n",
        "   \\begin{bmatrix}\n",
        "  3 \\\\\n",
        "  8  \\\\\n",
        "  20  \\\\\n",
        "  3 \\\\\n",
        "  6 \\\\\n",
        "\\end{bmatrix}\n",
        "\\end{align}"
      ]
    },
    {
      "cell_type": "markdown",
      "metadata": {
        "id": "MYwxF4R8_Gnf"
      },
      "source": [
        "### Matrix Multiplication\n",
        "\n",
        "You can multipy any two matrices where the **number of  columns of the first matrix is equal to the number of rows of the second matrix**.\n",
        "\n",
        "The unused dimensions of the factor matrices tell you what the dimensions of the product matrix will be.\n",
        "\n",
        "![Matrix Multiplication Dimensions](https://encrypted-tbn0.gstatic.com/images?q=tbn:ANd9GcRunZv20HXxTMUgrkfdER06lPnMj0HpwDU_2i4IEHsBM5098440Jw)\n",
        "\n",
        "There is no commutative property of matrix multiplication (you can't switch the order of the matrices and always get the same result). \n",
        "\n",
        "Matrix multiplication is best understood in terms of the **dot product**.\n",
        "\n",
        "\\begin{align} \\vec{a} \\cdot \\vec{b} = (a_{1} \\times b_{1}) + (a_{2} \\times b_{2}) + \\ldots + ( a_{n} \\times b_{n}) \\end{align}\n",
        "\n",
        "To multiply to matrices together, we will take the dot product of each row of the first matrix with each column of the second matrix. The position of the resulting entries will correspond to the row number and column number of the row and column vector that were used to find that scalar. Lets look at an example to make this more clear.\n",
        "\n",
        "![Dot Product Matrix Multiplication](https://www.mathsisfun.com/algebra/images/matrix-multiply-a.svg)\n",
        "\n",
        "\\begin{align}\n",
        "\\begin{bmatrix}\n",
        "1 & 2 & 3 \\\\\n",
        "4 & 5 & 6\n",
        "\\end{bmatrix} \n",
        "\\times\n",
        "\\begin{bmatrix}\n",
        "7 & 8 \\\\\n",
        "9 & 10 \\\\\n",
        "11 & 12\n",
        "\\end{bmatrix} \n",
        "=\n",
        "\\begin{bmatrix}\n",
        "(1)(7)+(2)(9)+(3)(11) & (1)(8)+(2)(10)+(3)(12)\\\\\n",
        "(4)(7)+(5)(9)+(6)(11) & (4)(8)+(5)(10)+(6)(12)\n",
        "\\end{bmatrix}\n",
        "=\n",
        "\\begin{bmatrix}\n",
        "(7)+(18)+(33) & (8)+(20)+(36)\\\\\n",
        "(28)+(45)+(66) & (32)+(50)+(72)\n",
        "\\end{bmatrix}\n",
        "=\n",
        "\\begin{bmatrix}\n",
        "58 & 64\\\\\n",
        "139 & 154\n",
        "\\end{bmatrix}\n",
        "\\end{align}"
      ]
    },
    {
      "cell_type": "markdown",
      "metadata": {
        "id": "fWTYBd2uPxMM"
      },
      "source": [
        "$\\qquad$\n",
        "\n",
        "Returning to the Longbones example:\n",
        "\n",
        "$$X \\times B = XB$$\n",
        "$\\qquad$\n",
        "\n",
        "\\begin{align}\n",
        "   \\begin{bmatrix}\n",
        "  1 \\quad 3.88 \\\\\n",
        "  1 \\quad 3.53  \\\\\n",
        "  1 \\quad 3.93  \\\\\n",
        "  1 \\quad 3.88  \\\\\n",
        "  1 \\quad 3.64  \\\\\n",
        "  1 \\quad ...\n",
        "\\end{bmatrix}\n",
        "\\begin{bmatrix}\n",
        "  b_0 \\\\\n",
        "  b_1 \\\\\n",
        "\\end{bmatrix} \n",
        "  =\n",
        "\\begin{bmatrix}\n",
        "  b_0 + 3.88b_1 \\\\\n",
        "  b_0 + 3.53b_1  \\\\\n",
        "  b_0 + 3.93b_1 \\\\\n",
        "  b_0 + 3.88b_1  \\\\\n",
        "  b_0 + 3.64b_1  \\\\\n",
        "  ...\n",
        "\\end{bmatrix}\n",
        "\\end{align}"
      ]
    },
    {
      "cell_type": "markdown",
      "metadata": {
        "id": "mxbQLIS8Qtw2"
      },
      "source": [
        "$$Y = XB + \\epsilon$$\n",
        "\n",
        "$\\qquad$\n",
        "\\begin{align}\n",
        "\\begin{bmatrix}\n",
        "  71.8 \\\\\n",
        "  70.6 \\\\\n",
        "  68.0 \\\\\n",
        "  71.6 \\\\\n",
        "  70.2 \\\\\n",
        "  ...\n",
        "\\end{bmatrix} \n",
        "   = \n",
        "\\begin{bmatrix}\n",
        "  b_0 + 3.88b_1 \\\\\n",
        "  b_0 + 3.53b_1  \\\\\n",
        "  b_0 + 3.93b_1 \\\\\n",
        "  b_0 + 3.88b_1  \\\\\n",
        "  b_0 + 3.64b_1  \\\\\n",
        "  ...\n",
        "\\end{bmatrix}\n",
        "  +\n",
        "\\begin{bmatrix}\n",
        "  \\epsilon_1 \\\\\n",
        "  \\epsilon_2  \\\\\n",
        "  \\epsilon_3  \\\\\n",
        "  \\epsilon_4  \\\\\n",
        "  \\epsilon_5  \\\\\n",
        "  ...\n",
        "\\end{bmatrix}\n",
        "\\end{align}"
      ]
    },
    {
      "cell_type": "markdown",
      "metadata": {
        "id": "TltR1jtYRhbg"
      },
      "source": [
        "###Now we want to take the equation $Y = XB + \\epsilon$ and solve for B in such a way that minimizes the residuals ($\\epsilon$)\n",
        "\n",
        "\n",
        "This is more complicated than it sounds because \n",
        "\n",
        "1. The crazy rules of matrix multiplication.\n",
        "2. You have to use calculus to do the \"minimize the residuals\" part."
      ]
    },
    {
      "cell_type": "markdown",
      "metadata": {
        "id": "pU7Q7hbWSwHp"
      },
      "source": [
        "###The end result is that the equation used to solve for B is \n",
        "\n",
        "$$ B = (X^{'}X)^{-1}X^{'}Y$$"
      ]
    },
    {
      "cell_type": "markdown",
      "metadata": {
        "id": "aJt-S8zA_Lk9"
      },
      "source": [
        "## Transpose\n",
        "\n",
        "A transposed matrix is one whose rows are the columns of the original and whose columns are the rows of the original.\n",
        "\n",
        "Common notation for the transpose of a matrix is to have a capital $T$ superscript or a tick mark:\n",
        "\n",
        "\\begin{align}\n",
        "A^{T}\n",
        "\\qquad\n",
        "A^{\\prime}\n",
        "\\end{align}\n",
        "\n",
        "The first is read \"A transpose\" the second is sometimes read as \"B prime\" but can also be read as \"A transpose\".\n",
        "\n",
        "The transpose of any matrix can be found easily by fixing the elements on the main diagonal and flipping the placement of all other elements across that diagonal.\n",
        "\n",
        "![Matrix Transpose](http://xaktly.com/Images/Mathematics/MatrixAlgebra/MatrixOperations/MatrixTranspose.png)\n",
        "  \n",
        "\\begin{align}\n",
        "  C = \n",
        "\\begin{bmatrix}\n",
        "  1 & 2 & 3 \\\\\n",
        "  4 & 5 & 6\n",
        "\\end{bmatrix}\n",
        "  \\qquad\n",
        "  C^{'} = \n",
        "  \\begin{bmatrix}\n",
        "  1 & 4 \\\\\n",
        "  2 & 5 \\\\\n",
        "  3 & 6\n",
        "  \\end{bmatrix}\n",
        "\\end{align}\n",
        "\n",
        "![Matrix Transpose](https://upload.wikimedia.org/wikipedia/commons/e/e4/Matrix_transpose.gif)"
      ]
    },
    {
      "cell_type": "markdown",
      "metadata": {
        "id": "8aGG5d4HSauH"
      },
      "source": [
        "## Inverse\n",
        "\n",
        "The inverse is like the reciprocal of the matrix that was used to generate it. Just like $\\frac{1}{8}$ is the reciprocal of 8, $A^{-1}$ acts like the reciprocal of $A$.  The equation for finding the inverse of a 2x2 matrix is as follows:\n",
        " \n",
        "\\begin{align}\n",
        "A = \\begin{bmatrix}\n",
        "a & b \\\\\n",
        "c & d\n",
        "\\end{bmatrix}\n",
        "\\qquad\n",
        "A^{-1} = \\frac{1}{ad-bc}\\begin{bmatrix}\n",
        "d & -b\\\\\n",
        "-c & a\n",
        "\\end{bmatrix}\n",
        "\\end{align}\n",
        "\n",
        "$\\qquad$\n",
        "\n",
        "When you multiply a matrix by its inverse, the result is what we call the identity matrix."
      ]
    },
    {
      "cell_type": "markdown",
      "metadata": {
        "id": "fSfLokfx_T4x"
      },
      "source": [
        "\n",
        "**Identity Matrix:** A diagonal matrix with ones on the main diagonal and zeroes everywhere else. The product of the any square matrix and the identity matrix is the original square matrix $CI == C$. Also, any matrix multiplied by its inverse will give the identity matrix as its product.  $CC^{-1} = I$\n",
        "\n",
        "\n",
        "From the example above: \n",
        "\n",
        "\\begin{align}\n",
        "AA^{-1} = A^{-1}A = \n",
        "\\begin{bmatrix}\n",
        "1 & 0 \\\\\n",
        "0 & 1\n",
        "\\end{bmatrix}\n",
        "\\end{align}\n",
        "\n",
        "\n"
      ]
    },
    {
      "cell_type": "markdown",
      "metadata": {
        "id": "46cJIv0YL7Jp"
      },
      "source": [
        "### Not all matrices are invertible\n",
        "\n",
        "- Matrices that are not square are not invertible.\n",
        " \n",
        "- There are some other factors that can make matricies not be invertable, but we won't get into those now."
      ]
    },
    {
      "cell_type": "markdown",
      "metadata": {
        "id": "jOc313yxVWGx"
      },
      "source": [
        "#Let's create X and Y matricies with our longbones data and use them to solve for B:\n",
        "\n"
      ]
    },
    {
      "cell_type": "markdown",
      "metadata": {
        "id": "zkOCMhdNViSZ"
      },
      "source": [
        "\n",
        "\n",
        "$$ B = (X^{'}X)^{-1}X^{'}Y$$"
      ]
    },
    {
      "cell_type": "code",
      "metadata": {
        "id": "aLy8AuEfV4Nq",
        "outputId": "4b2e2f3e-e314-4223-f478-fe7a0ff77910",
        "colab": {
          "base_uri": "https://localhost:8080/",
          "height": 198
        }
      },
      "source": [
        "longbones.head()"
      ],
      "execution_count": null,
      "outputs": [
        {
          "output_type": "execute_result",
          "data": {
            "text/html": [
              "<div>\n",
              "<style scoped>\n",
              "    .dataframe tbody tr th:only-of-type {\n",
              "        vertical-align: middle;\n",
              "    }\n",
              "\n",
              "    .dataframe tbody tr th {\n",
              "        vertical-align: top;\n",
              "    }\n",
              "\n",
              "    .dataframe thead th {\n",
              "        text-align: right;\n",
              "    }\n",
              "</style>\n",
              "<table border=\"1\" class=\"dataframe\">\n",
              "  <thead>\n",
              "    <tr style=\"text-align: right;\">\n",
              "      <th></th>\n",
              "      <th>Site</th>\n",
              "      <th>Time</th>\n",
              "      <th>Depth</th>\n",
              "      <th>Lime</th>\n",
              "      <th>Age</th>\n",
              "      <th>Nitro</th>\n",
              "      <th>Oil</th>\n",
              "    </tr>\n",
              "  </thead>\n",
              "  <tbody>\n",
              "    <tr>\n",
              "      <th>3</th>\n",
              "      <td>1</td>\n",
              "      <td>71.8</td>\n",
              "      <td>7.6</td>\n",
              "      <td>1</td>\n",
              "      <td>65.0</td>\n",
              "      <td>3.88</td>\n",
              "      <td>0</td>\n",
              "    </tr>\n",
              "    <tr>\n",
              "      <th>4</th>\n",
              "      <td>1</td>\n",
              "      <td>70.6</td>\n",
              "      <td>7.5</td>\n",
              "      <td>1</td>\n",
              "      <td>42.0</td>\n",
              "      <td>3.53</td>\n",
              "      <td>0</td>\n",
              "    </tr>\n",
              "    <tr>\n",
              "      <th>5</th>\n",
              "      <td>1</td>\n",
              "      <td>68.0</td>\n",
              "      <td>7.0</td>\n",
              "      <td>1</td>\n",
              "      <td>28.0</td>\n",
              "      <td>3.93</td>\n",
              "      <td>0</td>\n",
              "    </tr>\n",
              "    <tr>\n",
              "      <th>6</th>\n",
              "      <td>1</td>\n",
              "      <td>71.6</td>\n",
              "      <td>8.0</td>\n",
              "      <td>1</td>\n",
              "      <td>35.0</td>\n",
              "      <td>3.88</td>\n",
              "      <td>0</td>\n",
              "    </tr>\n",
              "    <tr>\n",
              "      <th>7</th>\n",
              "      <td>1</td>\n",
              "      <td>70.2</td>\n",
              "      <td>6.0</td>\n",
              "      <td>1</td>\n",
              "      <td>44.0</td>\n",
              "      <td>3.64</td>\n",
              "      <td>0</td>\n",
              "    </tr>\n",
              "  </tbody>\n",
              "</table>\n",
              "</div>"
            ],
            "text/plain": [
              "   Site  Time  Depth  Lime   Age  Nitro  Oil\n",
              "3     1  71.8    7.6     1  65.0   3.88    0\n",
              "4     1  70.6    7.5     1  42.0   3.53    0\n",
              "5     1  68.0    7.0     1  28.0   3.93    0\n",
              "6     1  71.6    8.0     1  35.0   3.88    0\n",
              "7     1  70.2    6.0     1  44.0   3.64    0"
            ]
          },
          "metadata": {
            "tags": []
          },
          "execution_count": 3
        }
      ]
    },
    {
      "cell_type": "code",
      "metadata": {
        "id": "UVhixZZZQfUw",
        "outputId": "bb8dff5e-32d4-4c29-8a33-003025ec2abb",
        "colab": {
          "base_uri": "https://localhost:8080/",
          "height": 1000
        }
      },
      "source": [
        "### We need to store X and Y as numpy arrays\n",
        "\n",
        "#.reshape(-1,1) causes the array to be stored as a vertical array rather than horizontal\n",
        "ones = np.repeat(1,len(longbones)).reshape(-1,1)\n",
        "\n",
        "Nitro = np.array(longbones['Nitro']).reshape(-1,1)\n",
        "\n",
        "X = np.concatenate((ones, Nitro), axis=1)\n",
        "\n",
        "Y = np.array(longbones['Time']).reshape(-1,1)\n",
        "\n",
        "#print(ones)\n",
        "print(X)\n",
        "print(Y)\n"
      ],
      "execution_count": null,
      "outputs": [
        {
          "output_type": "stream",
          "text": [
            "[[1.   3.88]\n",
            " [1.   3.53]\n",
            " [1.   3.93]\n",
            " [1.   3.88]\n",
            " [1.   3.64]\n",
            " [1.   3.97]\n",
            " [1.   3.96]\n",
            " [1.   3.69]\n",
            " [1.   3.75]\n",
            " [1.   3.75]\n",
            " [1.   3.92]\n",
            " [1.   3.76]\n",
            " [1.   3.93]\n",
            " [1.   3.7 ]\n",
            " [1.   3.82]\n",
            " [1.   3.78]\n",
            " [1.   4.  ]\n",
            " [1.   3.92]\n",
            " [1.   3.79]\n",
            " [1.   3.49]\n",
            " [1.   3.57]\n",
            " [1.   3.43]\n",
            " [1.   3.27]\n",
            " [1.   3.66]\n",
            " [1.   3.9 ]\n",
            " [1.   3.91]\n",
            " [1.   3.73]\n",
            " [1.   3.72]\n",
            " [1.   3.85]\n",
            " [1.   3.85]\n",
            " [1.   4.06]\n",
            " [1.   4.04]\n",
            " [1.   4.  ]\n",
            " [1.   3.93]\n",
            " [1.   3.85]]\n",
            "[[71.8]\n",
            " [70.6]\n",
            " [68. ]\n",
            " [71.6]\n",
            " [70.2]\n",
            " [55.5]\n",
            " [36.3]\n",
            " [46.5]\n",
            " [45.5]\n",
            " [43. ]\n",
            " [44.9]\n",
            " [59.5]\n",
            " [58.3]\n",
            " [56.5]\n",
            " [56.3]\n",
            " [43. ]\n",
            " [42.5]\n",
            " [29. ]\n",
            " [35.3]\n",
            " [93.6]\n",
            " [90. ]\n",
            " [88. ]\n",
            " [79.7]\n",
            " [67.4]\n",
            " [64.7]\n",
            " [64.7]\n",
            " [38.3]\n",
            " [59.6]\n",
            " [32. ]\n",
            " [32.2]\n",
            " [26.5]\n",
            " [34.7]\n",
            " [27.6]\n",
            " [35.7]\n",
            " [49.6]]\n"
          ],
          "name": "stdout"
        }
      ]
    },
    {
      "cell_type": "code",
      "metadata": {
        "id": "m_Dd1ZbU335I",
        "outputId": "fdde7360-feeb-407b-ea30-0992ed2c0304",
        "colab": {
          "base_uri": "https://localhost:8080/",
          "height": 51
        }
      },
      "source": [
        "# B = (X'X)^-1 X'Y\n",
        "\n",
        "#Calculate X transpose\n",
        "X_T = np.transpose(X)\n",
        "\n",
        "#Calculate X transpose times x\n",
        "X_T_X = np.matmul(X_T,X)\n",
        "\n",
        "print(X_T_X)"
      ],
      "execution_count": null,
      "outputs": [
        {
          "output_type": "stream",
          "text": [
            "[[ 35.     132.86  ]\n",
            " [132.86   505.4434]]\n"
          ],
          "name": "stdout"
        }
      ]
    },
    {
      "cell_type": "code",
      "metadata": {
        "id": "WxOrKY9F391Z",
        "outputId": "1a57e609-a9af-47c8-9bae-71a336daf185",
        "colab": {
          "base_uri": "https://localhost:8080/",
          "height": 51
        }
      },
      "source": [
        "#Calculate X_T_X_inv\n",
        "\n",
        "X_T_X_inv = np.linalg.inv(X_T_X)\n",
        "\n",
        "print(X_T_X_inv)"
      ],
      "execution_count": null,
      "outputs": [
        {
          "output_type": "stream",
          "text": [
            "[[13.0472697  -3.42958332]\n",
            " [-3.42958332  0.90347295]]\n"
          ],
          "name": "stdout"
        }
      ]
    },
    {
      "cell_type": "code",
      "metadata": {
        "id": "IzDRPF924FNk",
        "outputId": "fa54e0ad-8d9b-445d-883b-e6e5ecac900d",
        "colab": {
          "base_uri": "https://localhost:8080/",
          "height": 51
        }
      },
      "source": [
        "#Calculate X transpose Y\n",
        "\n",
        "X_T_Y = np.matmul(X_T,Y)\n",
        "\n",
        "print(X_T_Y)"
      ],
      "execution_count": null,
      "outputs": [
        {
          "output_type": "stream",
          "text": [
            "[[1888.6  ]\n",
            " [7092.485]]\n"
          ],
          "name": "stdout"
        }
      ]
    },
    {
      "cell_type": "code",
      "metadata": {
        "id": "ataF2sSMagfm",
        "outputId": "11f333c2-092c-42e8-883e-28b363e4a490",
        "colab": {
          "base_uri": "https://localhost:8080/",
          "height": 51
        }
      },
      "source": [
        "#Calculate B =  = (X'X)^-1 X'Y\n",
        "\n",
        "B = np.matmul(X_T_X_inv,X_T_Y)\n",
        "\n",
        "print(B)"
      ],
      "execution_count": null,
      "outputs": [
        {
          "output_type": "stream",
          "text": [
            "[[316.80532326]\n",
            " [-69.24270897]]\n"
          ],
          "name": "stdout"
        }
      ]
    },
    {
      "cell_type": "code",
      "metadata": {
        "id": "cAz2v2l27XQC",
        "outputId": "058a89ca-48e4-4bd6-a918-66fdacf3d593",
        "colab": {
          "base_uri": "https://localhost:8080/",
          "height": 123
        }
      },
      "source": [
        "#Using ols...\n",
        "\n",
        "from statsmodels.formula.api import ols\n",
        "\n",
        "#Enter the model in the format Y ~ X\n",
        "\n",
        "model = ols('Time ~ Nitro', data=longbones).fit()\n",
        "\n",
        "print(model.params)"
      ],
      "execution_count": null,
      "outputs": [
        {
          "output_type": "stream",
          "text": [
            "/usr/local/lib/python3.6/dist-packages/statsmodels/tools/_testing.py:19: FutureWarning: pandas.util.testing is deprecated. Use the functions in the public API at pandas.testing instead.\n",
            "  import pandas.util.testing as tm\n"
          ],
          "name": "stderr"
        },
        {
          "output_type": "stream",
          "text": [
            "Intercept    316.805323\n",
            "Nitro        -69.242709\n",
            "dtype: float64\n"
          ],
          "name": "stdout"
        }
      ]
    },
    {
      "cell_type": "markdown",
      "metadata": {
        "id": "59wg1nvaiJeX"
      },
      "source": [
        "###We get the same answer!!!"
      ]
    },
    {
      "cell_type": "markdown",
      "metadata": {
        "id": "awzVAjtuiT7o"
      },
      "source": [
        "#What happens if we have more than one X variable?"
      ]
    },
    {
      "cell_type": "code",
      "metadata": {
        "id": "Du08y19oi3H3",
        "outputId": "95b12c45-87e8-4a93-9785-25524bec3dee",
        "colab": {
          "base_uri": "https://localhost:8080/",
          "height": 198
        }
      },
      "source": [
        "longbones.head()"
      ],
      "execution_count": null,
      "outputs": [
        {
          "output_type": "execute_result",
          "data": {
            "text/html": [
              "<div>\n",
              "<style scoped>\n",
              "    .dataframe tbody tr th:only-of-type {\n",
              "        vertical-align: middle;\n",
              "    }\n",
              "\n",
              "    .dataframe tbody tr th {\n",
              "        vertical-align: top;\n",
              "    }\n",
              "\n",
              "    .dataframe thead th {\n",
              "        text-align: right;\n",
              "    }\n",
              "</style>\n",
              "<table border=\"1\" class=\"dataframe\">\n",
              "  <thead>\n",
              "    <tr style=\"text-align: right;\">\n",
              "      <th></th>\n",
              "      <th>Site</th>\n",
              "      <th>Time</th>\n",
              "      <th>Depth</th>\n",
              "      <th>Lime</th>\n",
              "      <th>Age</th>\n",
              "      <th>Nitro</th>\n",
              "      <th>Oil</th>\n",
              "    </tr>\n",
              "  </thead>\n",
              "  <tbody>\n",
              "    <tr>\n",
              "      <th>3</th>\n",
              "      <td>1</td>\n",
              "      <td>71.8</td>\n",
              "      <td>7.6</td>\n",
              "      <td>1</td>\n",
              "      <td>65.0</td>\n",
              "      <td>3.88</td>\n",
              "      <td>0</td>\n",
              "    </tr>\n",
              "    <tr>\n",
              "      <th>4</th>\n",
              "      <td>1</td>\n",
              "      <td>70.6</td>\n",
              "      <td>7.5</td>\n",
              "      <td>1</td>\n",
              "      <td>42.0</td>\n",
              "      <td>3.53</td>\n",
              "      <td>0</td>\n",
              "    </tr>\n",
              "    <tr>\n",
              "      <th>5</th>\n",
              "      <td>1</td>\n",
              "      <td>68.0</td>\n",
              "      <td>7.0</td>\n",
              "      <td>1</td>\n",
              "      <td>28.0</td>\n",
              "      <td>3.93</td>\n",
              "      <td>0</td>\n",
              "    </tr>\n",
              "    <tr>\n",
              "      <th>6</th>\n",
              "      <td>1</td>\n",
              "      <td>71.6</td>\n",
              "      <td>8.0</td>\n",
              "      <td>1</td>\n",
              "      <td>35.0</td>\n",
              "      <td>3.88</td>\n",
              "      <td>0</td>\n",
              "    </tr>\n",
              "    <tr>\n",
              "      <th>7</th>\n",
              "      <td>1</td>\n",
              "      <td>70.2</td>\n",
              "      <td>6.0</td>\n",
              "      <td>1</td>\n",
              "      <td>44.0</td>\n",
              "      <td>3.64</td>\n",
              "      <td>0</td>\n",
              "    </tr>\n",
              "  </tbody>\n",
              "</table>\n",
              "</div>"
            ],
            "text/plain": [
              "   Site  Time  Depth  Lime   Age  Nitro  Oil\n",
              "3     1  71.8    7.6     1  65.0   3.88    0\n",
              "4     1  70.6    7.5     1  42.0   3.53    0\n",
              "5     1  68.0    7.0     1  28.0   3.93    0\n",
              "6     1  71.6    8.0     1  35.0   3.88    0\n",
              "7     1  70.2    6.0     1  44.0   3.64    0"
            ]
          },
          "metadata": {
            "tags": []
          },
          "execution_count": 10
        }
      ]
    },
    {
      "cell_type": "markdown",
      "metadata": {
        "id": "T0UsT02ti6BW"
      },
      "source": [
        "Now we want to include both nitrogen composition and Quicklime application in our model."
      ]
    },
    {
      "cell_type": "markdown",
      "metadata": {
        "id": "SEjNKXmSjUK7"
      },
      "source": [
        "$\\qquad$\n",
        "\n",
        "Now we have \n",
        "\n",
        "$$X \\times B = XB$$\n",
        "$\\qquad$\n",
        "\n",
        "\\begin{align}\n",
        "   \\begin{bmatrix}\n",
        "  1 \\quad 3.88 \\quad 1 \\\\\n",
        "  1 \\quad 3.53 \\quad 1  \\\\\n",
        "  1 \\quad 3.93 \\quad 1 \\\\\n",
        "  1 \\quad 3.88 \\quad 1 \\\\\n",
        "  1 \\quad 3.64 \\quad 1 \\\\\n",
        "  1 \\quad ... \\ ...\n",
        "\\end{bmatrix}\n",
        "\\begin{bmatrix}\n",
        "  b_0 \\\\\n",
        "  b_1 \\\\\n",
        "  b_2\n",
        "\\end{bmatrix} \n",
        "  =\n",
        "\\begin{bmatrix}\n",
        "  b_0 + 3.88b_1 + 1b_2\\\\\n",
        "  b_0 + 3.53b_1 + 1b_2 \\\\\n",
        "  b_0 + 3.93b_1 + 1b_2\\\\\n",
        "  b_0 + 3.88b_1 + 1b_2 \\\\\n",
        "  b_0 + 3.64b_1 + 1b_2 \\\\\n",
        "  b_0 + ... + ...\n",
        "  ...\n",
        "\\end{bmatrix}\n",
        "\\end{align}"
      ]
    },
    {
      "cell_type": "code",
      "metadata": {
        "id": "p5k_g4HBkPvv",
        "outputId": "f13d3e7b-7676-47c5-9ebf-bfe6e2108352",
        "colab": {
          "base_uri": "https://localhost:8080/",
          "height": 1000
        }
      },
      "source": [
        "### We need to store X and Y as numpy arrays\n",
        "\n",
        "#.reshape(-1,1) causes the array to be stored as a vertical array rather than horizontal\n",
        "ones = np.repeat(1,len(longbones)).reshape(-1,1)\n",
        "\n",
        "Nitro = np.array(longbones['Nitro']).reshape(-1,1)\n",
        "Lime = np.array(longbones['Lime']).reshape(-1,1)\n",
        "\n",
        "X = np.concatenate((ones, Nitro,Lime), axis=1)\n",
        "\n",
        "Y = np.array(longbones['Time']).reshape(-1,1)\n",
        "\n",
        "#print(ones)\n",
        "print(X)\n",
        "print(Y)\n"
      ],
      "execution_count": null,
      "outputs": [
        {
          "output_type": "stream",
          "text": [
            "[[1.   3.88 1.  ]\n",
            " [1.   3.53 1.  ]\n",
            " [1.   3.93 1.  ]\n",
            " [1.   3.88 1.  ]\n",
            " [1.   3.64 1.  ]\n",
            " [1.   3.97 0.  ]\n",
            " [1.   3.96 0.  ]\n",
            " [1.   3.69 0.  ]\n",
            " [1.   3.75 0.  ]\n",
            " [1.   3.75 0.  ]\n",
            " [1.   3.92 0.  ]\n",
            " [1.   3.76 0.  ]\n",
            " [1.   3.93 0.  ]\n",
            " [1.   3.7  0.  ]\n",
            " [1.   3.82 0.  ]\n",
            " [1.   3.78 0.  ]\n",
            " [1.   4.   0.  ]\n",
            " [1.   3.92 0.  ]\n",
            " [1.   3.79 0.  ]\n",
            " [1.   3.49 1.  ]\n",
            " [1.   3.57 1.  ]\n",
            " [1.   3.43 1.  ]\n",
            " [1.   3.27 1.  ]\n",
            " [1.   3.66 1.  ]\n",
            " [1.   3.9  1.  ]\n",
            " [1.   3.91 1.  ]\n",
            " [1.   3.73 0.  ]\n",
            " [1.   3.72 0.  ]\n",
            " [1.   3.85 0.  ]\n",
            " [1.   3.85 0.  ]\n",
            " [1.   4.06 0.  ]\n",
            " [1.   4.04 0.  ]\n",
            " [1.   4.   0.  ]\n",
            " [1.   3.93 0.  ]\n",
            " [1.   3.85 0.  ]]\n",
            "[[71.8]\n",
            " [70.6]\n",
            " [68. ]\n",
            " [71.6]\n",
            " [70.2]\n",
            " [55.5]\n",
            " [36.3]\n",
            " [46.5]\n",
            " [45.5]\n",
            " [43. ]\n",
            " [44.9]\n",
            " [59.5]\n",
            " [58.3]\n",
            " [56.5]\n",
            " [56.3]\n",
            " [43. ]\n",
            " [42.5]\n",
            " [29. ]\n",
            " [35.3]\n",
            " [93.6]\n",
            " [90. ]\n",
            " [88. ]\n",
            " [79.7]\n",
            " [67.4]\n",
            " [64.7]\n",
            " [64.7]\n",
            " [38.3]\n",
            " [59.6]\n",
            " [32. ]\n",
            " [32.2]\n",
            " [26.5]\n",
            " [34.7]\n",
            " [27.6]\n",
            " [35.7]\n",
            " [49.6]]\n"
          ],
          "name": "stdout"
        }
      ]
    },
    {
      "cell_type": "code",
      "metadata": {
        "id": "wffPKuJVkrCB",
        "outputId": "4fef8676-f059-4f87-e799-dfde4d3398fc",
        "colab": {
          "base_uri": "https://localhost:8080/",
          "height": 68
        }
      },
      "source": [
        "# B = (X'X)^-1 X'Y\n",
        "\n",
        "#Calculate X transpose\n",
        "X_T = np.transpose(X)\n",
        "\n",
        "#Calculate X transpose times x\n",
        "X_T_X = np.matmul(X_T,X)\n",
        "\n",
        "print(X_T_X)"
      ],
      "execution_count": null,
      "outputs": [
        {
          "output_type": "stream",
          "text": [
            "[[ 35.     132.86    12.    ]\n",
            " [132.86   505.4434  44.09  ]\n",
            " [ 12.      44.09    12.    ]]\n"
          ],
          "name": "stdout"
        }
      ]
    },
    {
      "cell_type": "code",
      "metadata": {
        "id": "5urdsQb8kwkA",
        "outputId": "e58de535-29d9-40a2-f478-177f48ed0571",
        "colab": {
          "base_uri": "https://localhost:8080/",
          "height": 68
        }
      },
      "source": [
        "#Calculate X_T_X_inv\n",
        "\n",
        "X_T_X_inv = np.linalg.inv(X_T_X)\n",
        "\n",
        "print(X_T_X_inv)"
      ],
      "execution_count": null,
      "outputs": [
        {
          "output_type": "stream",
          "text": [
            "[[17.86648578 -4.61787961 -0.89962645]\n",
            " [-4.61787961  1.19647664  0.22182503]\n",
            " [-0.89962645  0.22182503  0.16793763]]\n"
          ],
          "name": "stdout"
        }
      ]
    },
    {
      "cell_type": "code",
      "metadata": {
        "id": "HwFpT8UVkzuh",
        "outputId": "f6142cd9-7a02-4310-8890-e24699dd2358",
        "colab": {
          "base_uri": "https://localhost:8080/",
          "height": 68
        }
      },
      "source": [
        "#Calculate X transpose Y\n",
        "\n",
        "X_T_Y = np.matmul(X_T,Y)\n",
        "\n",
        "print(X_T_Y)"
      ],
      "execution_count": null,
      "outputs": [
        {
          "output_type": "stream",
          "text": [
            "[[1888.6  ]\n",
            " [7092.485]\n",
            " [ 900.3  ]]\n"
          ],
          "name": "stdout"
        }
      ]
    },
    {
      "cell_type": "code",
      "metadata": {
        "id": "eowLI3Qdk9u6",
        "outputId": "86e54251-1ccf-4d7f-e7ba-a8c1e4d0e605",
        "colab": {
          "base_uri": "https://localhost:8080/",
          "height": 68
        }
      },
      "source": [
        "#Calculate B =  = (X'X)^-1 X'Y\n",
        "\n",
        "B = np.matmul(X_T_X_inv,X_T_Y)\n",
        "\n",
        "print(B)"
      ],
      "execution_count": null,
      "outputs": [
        {
          "output_type": "stream",
          "text": [
            "[[180.4694905 ]\n",
            " [-35.62575511]\n",
            " [ 25.45047142]]\n"
          ],
          "name": "stdout"
        }
      ]
    },
    {
      "cell_type": "code",
      "metadata": {
        "id": "1k7mU2R-lGeL",
        "outputId": "a9974b61-2dcf-476c-9df6-ae1b83e8ff26",
        "colab": {
          "base_uri": "https://localhost:8080/",
          "height": 86
        }
      },
      "source": [
        "#Using ols...\n",
        "\n",
        "from statsmodels.formula.api import ols\n",
        "\n",
        "#Enter the model in the format Y ~ X\n",
        "\n",
        "model = ols('Time ~ Nitro + Lime', data=longbones).fit()\n",
        "\n",
        "print(model.params)"
      ],
      "execution_count": null,
      "outputs": [
        {
          "output_type": "stream",
          "text": [
            "Intercept    180.469490\n",
            "Nitro        -35.625755\n",
            "Lime          25.450471\n",
            "dtype: float64\n"
          ],
          "name": "stdout"
        }
      ]
    },
    {
      "cell_type": "markdown",
      "metadata": {
        "id": "klqll5X1lJ7T"
      },
      "source": [
        "###Pretty cool!"
      ]
    },
    {
      "cell_type": "markdown",
      "metadata": {
        "id": "PVN7eDxLnAhN"
      },
      "source": [
        "## All You Need is Cosine Similarity"
      ]
    },
    {
      "cell_type": "markdown",
      "metadata": {
        "id": "249THg5iYSMz"
      },
      "source": [
        "We just talked about how to use linear regression identify the relationship between two quantitative variables.  \n",
        "\n",
        "Cosine similarity is another way we could quantify the relationship between two variables."
      ]
    },
    {
      "cell_type": "markdown",
      "metadata": {
        "id": "DwPKXSqjrtYW"
      },
      "source": [
        "Recall that a vector is a quantity with both magnitude and direction.  We can graph a 2D vector with an arrow."
      ]
    },
    {
      "cell_type": "code",
      "metadata": {
        "id": "to1XKDp-swJq",
        "outputId": "d0d403e4-7cfa-4bb9-faab-c8be877ff10c",
        "colab": {
          "base_uri": "https://localhost:8080/",
          "height": 286
        }
      },
      "source": [
        "import matplotlib.pyplot as plt\n",
        "\n",
        "# Create the vector\n",
        "vector = [3, 4]\n",
        "\n",
        "plt.arrow(0, 0, vector[0], vector[1], width=.05)\n",
        "plt.xlim(-1, 4); plt.ylim(-1, 5)"
      ],
      "execution_count": null,
      "outputs": [
        {
          "output_type": "execute_result",
          "data": {
            "text/plain": [
              "(-1.0, 5.0)"
            ]
          },
          "metadata": {
            "tags": []
          },
          "execution_count": 17
        },
        {
          "output_type": "display_data",
          "data": {
            "image/png": "[encoded data removed]",
            "text/plain": [
              "<Figure size 432x288 with 1 Axes>"
            ]
          },
          "metadata": {
            "tags": [],
            "needs_background": "light"
          }
        }
      ]
    },
    {
      "cell_type": "markdown",
      "metadata": {
        "id": "RHv6DpMfsyec"
      },
      "source": [
        "What if we had two 2D vectors?  "
      ]
    },
    {
      "cell_type": "code",
      "metadata": {
        "id": "HuwZ8ttFs99d",
        "outputId": "6547d0cd-b0d2-4c6c-d810-f7fa95a77d38",
        "colab": {
          "base_uri": "https://localhost:8080/",
          "height": 286
        }
      },
      "source": [
        "import matplotlib.pyplot as plt\n",
        "\n",
        "# Create the vector\n",
        "vector1 = [3, 4]\n",
        "vector2 = [3, 0]\n",
        "\n",
        "plt.arrow(0, 0, vector1[0], vector1[1], width=.05, color = 'green')\n",
        "plt.arrow(0, 0, vector2[0], vector2[1], width=.05, color = 'blue')\n",
        "plt.xlim(-1, 4); plt.ylim(-1, 5)"
      ],
      "execution_count": null,
      "outputs": [
        {
          "output_type": "execute_result",
          "data": {
            "text/plain": [
              "(-1.0, 5.0)"
            ]
          },
          "metadata": {
            "tags": []
          },
          "execution_count": 18
        },
        {
          "output_type": "display_data",
          "data": {
            "image/png": "[encoded data removed]",
            "text/plain": [
              "<Figure size 432x288 with 1 Axes>"
            ]
          },
          "metadata": {
            "tags": [],
            "needs_background": "light"
          }
        }
      ]
    },
    {
      "cell_type": "markdown",
      "metadata": {
        "id": "BJacL-NVtSbf"
      },
      "source": [
        "How could we measure how \"similar\" these vectors are?\n",
        "\n",
        "Intuitively, we would say that two vectors that line up perfectly are \"the same\"."
      ]
    },
    {
      "cell_type": "code",
      "metadata": {
        "id": "v4GOpufkt9NG",
        "outputId": "0f3642c2-f00a-46d5-8a53-fbc3f8a9246b",
        "colab": {
          "base_uri": "https://localhost:8080/",
          "height": 286
        }
      },
      "source": [
        "import matplotlib.pyplot as plt\n",
        "\n",
        "# Create the vector\n",
        "vector1 = [3, 4]\n",
        "vector2 = [3, 4]\n",
        "\n",
        "plt.arrow(0, 0, vector1[0], vector1[1], width=.05, color = 'green')\n",
        "plt.arrow(0, 0, vector2[0], vector2[1], width=.05, color = 'blue')\n",
        "plt.xlim(-1, 4); plt.ylim(-1, 5)"
      ],
      "execution_count": null,
      "outputs": [
        {
          "output_type": "execute_result",
          "data": {
            "text/plain": [
              "(-1.0, 5.0)"
            ]
          },
          "metadata": {
            "tags": []
          },
          "execution_count": 19
        },
        {
          "output_type": "display_data",
          "data": {
            "image/png": "[encoded data removed]",
            "text/plain": [
              "<Figure size 432x288 with 1 Axes>"
            ]
          },
          "metadata": {
            "tags": [],
            "needs_background": "light"
          }
        }
      ]
    },
    {
      "cell_type": "markdown",
      "metadata": {
        "id": "KJMxyZN9uC9x"
      },
      "source": [
        "Two vectors that are going in perpendicular directions are orthogonal to each other."
      ]
    },
    {
      "cell_type": "code",
      "metadata": {
        "id": "qsB-WwcHuS-I",
        "outputId": "31d7cadc-56ac-4010-e8eb-28dda5c2fe9c",
        "colab": {
          "base_uri": "https://localhost:8080/",
          "height": 286
        }
      },
      "source": [
        "import matplotlib.pyplot as plt\n",
        "\n",
        "# Create the vector\n",
        "vector1 = [-3, 4]\n",
        "vector2 = [3, 4]\n",
        "\n",
        "plt.arrow(0, 0, vector1[0], vector1[1], width=.05, color = 'green')\n",
        "plt.arrow(0, 0, vector2[0], vector2[1], width=.05, color = 'blue')\n",
        "plt.xlim(-4, 4); plt.ylim(-1, 5)"
      ],
      "execution_count": null,
      "outputs": [
        {
          "output_type": "execute_result",
          "data": {
            "text/plain": [
              "(-1.0, 5.0)"
            ]
          },
          "metadata": {
            "tags": []
          },
          "execution_count": 20
        },
        {
          "output_type": "display_data",
          "data": {
            "image/png": "[encoded data removed]",
            "text/plain": [
              "<Figure size 432x288 with 1 Axes>"
            ]
          },
          "metadata": {
            "tags": [],
            "needs_background": "light"
          }
        }
      ]
    },
    {
      "cell_type": "markdown",
      "metadata": {
        "id": "xjuxEoyZXtfP"
      },
      "source": [
        "And two vectors that are going in opposite directions are opposites of each other."
      ]
    },
    {
      "cell_type": "code",
      "metadata": {
        "id": "ZUSGHY5YX1Hi",
        "outputId": "f840b3de-7d00-4357-d792-694e4a15473b",
        "colab": {
          "base_uri": "https://localhost:8080/",
          "height": 282
        }
      },
      "source": [
        "import matplotlib.pyplot as plt\n",
        "\n",
        "# Create the vector\n",
        "vector1 = [-3, -4]\n",
        "vector2 = [3, 4]\n",
        "\n",
        "plt.arrow(0, 0, vector1[0], vector1[1], width=.05, color = 'green')\n",
        "plt.arrow(0, 0, vector2[0], vector2[1], width=.05, color = 'blue')\n",
        "plt.xlim(-4, 4); plt.ylim(-5, 5)"
      ],
      "execution_count": null,
      "outputs": [
        {
          "output_type": "execute_result",
          "data": {
            "text/plain": [
              "(-5.0, 5.0)"
            ]
          },
          "metadata": {
            "tags": []
          },
          "execution_count": 21
        },
        {
          "output_type": "display_data",
          "data": {
            "image/png": "[encoded data removed]",
            "text/plain": [
              "<Figure size 432x288 with 1 Axes>"
            ]
          },
          "metadata": {
            "tags": [],
            "needs_background": "light"
          }
        }
      ]
    },
    {
      "cell_type": "markdown",
      "metadata": {
        "id": "IlkCnzuUub9w"
      },
      "source": [
        "One way we could measure how similar these vectors are is by looking at the degree of the angle between them.  \n",
        "\n",
        "If vectors are exactly the same, there is no angle between them (angle = 0 degrees)\n",
        "\n",
        "If vectors are perpendicular, there is a 90 degree angle betwen them.\n",
        "\n",
        "If the vectors are going in opposite directions, there is a 180 degree angle between them."
      ]
    },
    {
      "cell_type": "markdown",
      "metadata": {
        "id": "XEnpqkcDzVNT"
      },
      "source": [
        "How do we determine the degree of the angle between the two vectors?\n",
        "\n",
        "Calculate the cosine!"
      ]
    },
    {
      "cell_type": "markdown",
      "metadata": {
        "id": "ReUOPNDhz0Y-"
      },
      "source": [
        "![ratbig.gif](data:image/gif;base64,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)"
      ]
    },
    {
      "cell_type": "markdown",
      "metadata": {
        "id": "CGFtq9LWTYU-"
      },
      "source": [
        "Think about one of our vectors as the adjacent side of a triangle and one as the hypotenuse.  The cosine of the angle measures the relationship of the hypotenuse and the adjacent side.  \n",
        "\n",
        "$$\\cos(\\theta) = \\frac{adj}{hyp}$$"
      ]
    },
    {
      "cell_type": "markdown",
      "metadata": {
        "id": "7kl8Bq21V7WP"
      },
      "source": [
        "When the two vectors are exactly the same $\\theta=0$ and $\\cos\\theta=1$\n",
        "\n",
        "When the two vectors are perpendicular to each other $\\theta=90$ and $\\cos\\theta=0$\n",
        "\n",
        "When the two vectors are going in opposite directions $\\theta=180$ and $\\cos\\theta=-1$"
      ]
    },
    {
      "cell_type": "markdown",
      "metadata": {
        "id": "Z50x_JOCXPwy"
      },
      "source": [
        "Therefore, cosine similarity measures the relationship between two vectors on a scale of -1 to 1."
      ]
    },
    {
      "cell_type": "markdown",
      "metadata": {
        "id": "81hcm9kEYt2l"
      },
      "source": [
        "Because we're often dealing with multi-dimensional vectors, we need a more general formua to determine the cosine of the angle between the vectors."
      ]
    },
    {
      "cell_type": "markdown",
      "metadata": {
        "id": "2zX7_KztkYT3"
      },
      "source": [
        "The cosine of two non-zero vectors can be derived by using the Euclidean dot product formula:\n",
        "\n",
        "$$\\mathbf {A} \\cdot \\mathbf {B} =\\left\\|\\mathbf {A} \\right\\|\\left\\|\\mathbf {B} \\right\\|\\cos \\theta$$\n",
        "\n",
        "Solving for $\\cos\\theta$ we get\n",
        "\n",
        "$$\\cos \\theta= \\frac{\\mathbf {A} \\cdot \\mathbf {B} }{\\left\\|\\mathbf {A} \\right\\|\\left\\|\\mathbf {B} \\right\\|}$$\n",
        "\n",
        "$\\qquad$\n",
        "\n",
        "The numerator is the dot product of the vectors $\\mathbf {A}$ and $\\mathbf {B}$\n",
        "\n",
        "The deminator is the norm of $\\mathbf {A}$ times the norm of $\\mathbf {B}$\n"
      ]
    },
    {
      "cell_type": "markdown",
      "metadata": {
        "id": "J10sSUChlzRH"
      },
      "source": [
        "###Let's look at an example"
      ]
    },
    {
      "cell_type": "markdown",
      "metadata": {
        "id": "9k2KIZbTl2kb"
      },
      "source": [
        "The song writing collaboration between John Lennon and Paul McCartney was one of the most productive in music history.  Unlike many other partnerships where one individual wrote lyrics and one wrote music, Lennon and McCartney composed both, and it was decided that any song that was written would be credited to both.  In the beginning of their relationship, many of their songs were truly collabroative.  However, later on, they often worked separately with little to no input from the other.    "
      ]
    },
    {
      "cell_type": "markdown",
      "metadata": {
        "id": "LsUaHKcEnhqc"
      },
      "source": [
        "Because of extensive reporting on the Beatles over the years, it is generally known if a Lennon-McCartney song was a true collabortion, primarily (or totally) writen by Lennon, or primarily (or totally) written by McCartney.  \n",
        "\n",
        "However, there are several disputed songs where both Lennon and McCartney at times claimed to be the sole (or primary) composer.\n",
        "\n",
        "We will use cosine similarity to determine if *In My Life* (disputed) is most similar to *From Me to You* (collabortive, not disputed), *Strawberry Fields* (Lennon, not disputed) or *Penny Lane* (McCartney, not disputed)."
      ]
    },
    {
      "cell_type": "markdown",
      "metadata": {
        "id": "vyh_lahmogO7"
      },
      "source": [
        "Let's start by looking at the text of Strawberry Fields, which we know was written by John Lennon.  We can actually copy the lyrics to the entire song (removing punctuation and capitals from the first words of sentences) as a string and then convert that string into a data frame.\n",
        "\n",
        "---\n",
        "\n"
      ]
    },
    {
      "cell_type": "code",
      "metadata": {
        "id": "6SuKxo-lYsCR",
        "outputId": "7629af77-2288-4adb-8cc6-825fad22f01b",
        "colab": {
          "base_uri": "https://localhost:8080/",
          "height": 198
        }
      },
      "source": [
        "import pandas as pd\n",
        "\n",
        "#Strawberry Fields - John Lennon (not disputed)\n",
        "\n",
        "Strawberry_ = \"let me take you down cause Im going to Strawberry Fields nothing is real and nothing to get hung about Strawberry Fields forever living is easy with eyes closed misunderstanding all you see its getting hard to be someone but it all works out it doesnt matter much to me let me take you down cause Im going to Strawberry Fields nothing is real and nothing to get hung about Strawberry Fields forever no one I think is in my tree I mean it must be high or low that is you cant you know tune in but its all right that is I think its not too bad let me take you down cause Im going to Strawberry Fields nothing is real and nothing to get hung about Strawberry Fields forever always no sometimes think but you know I know when it's a dream I think er no I mean er yes but its all wrong that is I think I disagree let me take you down cause Im going to Strawberry Fields nothing is real and nothing to get hung about Strawberry Fields forever Strawberry Fields forever Strawberry Fields forever\"\n",
        "\n",
        "Strawberry_df = pd.DataFrame({\"Words\": Strawberry_.split()})\n",
        "\n",
        "Strawberry_df.head()"
      ],
      "execution_count": null,
      "outputs": [
        {
          "output_type": "execute_result",
          "data": {
            "text/html": [
              "<div>\n",
              "<style scoped>\n",
              "    .dataframe tbody tr th:only-of-type {\n",
              "        vertical-align: middle;\n",
              "    }\n",
              "\n",
              "    .dataframe tbody tr th {\n",
              "        vertical-align: top;\n",
              "    }\n",
              "\n",
              "    .dataframe thead th {\n",
              "        text-align: right;\n",
              "    }\n",
              "</style>\n",
              "<table border=\"1\" class=\"dataframe\">\n",
              "  <thead>\n",
              "    <tr style=\"text-align: right;\">\n",
              "      <th></th>\n",
              "      <th>Words</th>\n",
              "    </tr>\n",
              "  </thead>\n",
              "  <tbody>\n",
              "    <tr>\n",
              "      <th>0</th>\n",
              "      <td>let</td>\n",
              "    </tr>\n",
              "    <tr>\n",
              "      <th>1</th>\n",
              "      <td>me</td>\n",
              "    </tr>\n",
              "    <tr>\n",
              "      <th>2</th>\n",
              "      <td>take</td>\n",
              "    </tr>\n",
              "    <tr>\n",
              "      <th>3</th>\n",
              "      <td>you</td>\n",
              "    </tr>\n",
              "    <tr>\n",
              "      <th>4</th>\n",
              "      <td>down</td>\n",
              "    </tr>\n",
              "  </tbody>\n",
              "</table>\n",
              "</div>"
            ],
            "text/plain": [
              "  Words\n",
              "0   let\n",
              "1    me\n",
              "2  take\n",
              "3   you\n",
              "4  down"
            ]
          },
          "metadata": {
            "tags": []
          },
          "execution_count": 22
        }
      ]
    },
    {
      "cell_type": "markdown",
      "metadata": {
        "id": "B75P8W7jqKnl"
      },
      "source": [
        "The way we are going to determine if two songs are similar is by comparing how frequently words appear in each song. We can make a frequency table to determine how many times each word appears in Strawberry Fields."
      ]
    },
    {
      "cell_type": "code",
      "metadata": {
        "id": "eu7cbuJB_mBq",
        "outputId": "ef222870-b566-4c68-a1cd-b4437772300a",
        "colab": {
          "base_uri": "https://localhost:8080/",
          "height": 1000
        }
      },
      "source": [
        "Strawberry_df_freq = pd.DataFrame(pd.crosstab(index=Strawberry_df['Words'],columns='count'))\n",
        "\n",
        "Strawberry_df_freq[0:50]\n",
        "\n"
      ],
      "execution_count": null,
      "outputs": [
        {
          "output_type": "execute_result",
          "data": {
            "text/html": [
              "<div>\n",
              "<style scoped>\n",
              "    .dataframe tbody tr th:only-of-type {\n",
              "        vertical-align: middle;\n",
              "    }\n",
              "\n",
              "    .dataframe tbody tr th {\n",
              "        vertical-align: top;\n",
              "    }\n",
              "\n",
              "    .dataframe thead th {\n",
              "        text-align: right;\n",
              "    }\n",
              "</style>\n",
              "<table border=\"1\" class=\"dataframe\">\n",
              "  <thead>\n",
              "    <tr style=\"text-align: right;\">\n",
              "      <th>col_0</th>\n",
              "      <th>count</th>\n",
              "    </tr>\n",
              "    <tr>\n",
              "      <th>Words</th>\n",
              "      <th></th>\n",
              "    </tr>\n",
              "  </thead>\n",
              "  <tbody>\n",
              "    <tr>\n",
              "      <th>Fields</th>\n",
              "      <td>10</td>\n",
              "    </tr>\n",
              "    <tr>\n",
              "      <th>I</th>\n",
              "      <td>8</td>\n",
              "    </tr>\n",
              "    <tr>\n",
              "      <th>Im</th>\n",
              "      <td>4</td>\n",
              "    </tr>\n",
              "    <tr>\n",
              "      <th>Strawberry</th>\n",
              "      <td>10</td>\n",
              "    </tr>\n",
              "    <tr>\n",
              "      <th>a</th>\n",
              "      <td>1</td>\n",
              "    </tr>\n",
              "    <tr>\n",
              "      <th>about</th>\n",
              "      <td>4</td>\n",
              "    </tr>\n",
              "    <tr>\n",
              "      <th>all</th>\n",
              "      <td>4</td>\n",
              "    </tr>\n",
              "    <tr>\n",
              "      <th>always</th>\n",
              "      <td>1</td>\n",
              "    </tr>\n",
              "    <tr>\n",
              "      <th>and</th>\n",
              "      <td>4</td>\n",
              "    </tr>\n",
              "    <tr>\n",
              "      <th>bad</th>\n",
              "      <td>1</td>\n",
              "    </tr>\n",
              "    <tr>\n",
              "      <th>be</th>\n",
              "      <td>2</td>\n",
              "    </tr>\n",
              "    <tr>\n",
              "      <th>but</th>\n",
              "      <td>4</td>\n",
              "    </tr>\n",
              "    <tr>\n",
              "      <th>cant</th>\n",
              "      <td>1</td>\n",
              "    </tr>\n",
              "    <tr>\n",
              "      <th>cause</th>\n",
              "      <td>4</td>\n",
              "    </tr>\n",
              "    <tr>\n",
              "      <th>closed</th>\n",
              "      <td>1</td>\n",
              "    </tr>\n",
              "    <tr>\n",
              "      <th>disagree</th>\n",
              "      <td>1</td>\n",
              "    </tr>\n",
              "    <tr>\n",
              "      <th>doesnt</th>\n",
              "      <td>1</td>\n",
              "    </tr>\n",
              "    <tr>\n",
              "      <th>down</th>\n",
              "      <td>4</td>\n",
              "    </tr>\n",
              "    <tr>\n",
              "      <th>dream</th>\n",
              "      <td>1</td>\n",
              "    </tr>\n",
              "    <tr>\n",
              "      <th>easy</th>\n",
              "      <td>1</td>\n",
              "    </tr>\n",
              "    <tr>\n",
              "      <th>er</th>\n",
              "      <td>2</td>\n",
              "    </tr>\n",
              "    <tr>\n",
              "      <th>eyes</th>\n",
              "      <td>1</td>\n",
              "    </tr>\n",
              "    <tr>\n",
              "      <th>forever</th>\n",
              "      <td>6</td>\n",
              "    </tr>\n",
              "    <tr>\n",
              "      <th>get</th>\n",
              "      <td>4</td>\n",
              "    </tr>\n",
              "    <tr>\n",
              "      <th>getting</th>\n",
              "      <td>1</td>\n",
              "    </tr>\n",
              "    <tr>\n",
              "      <th>going</th>\n",
              "      <td>4</td>\n",
              "    </tr>\n",
              "    <tr>\n",
              "      <th>hard</th>\n",
              "      <td>1</td>\n",
              "    </tr>\n",
              "    <tr>\n",
              "      <th>high</th>\n",
              "      <td>1</td>\n",
              "    </tr>\n",
              "    <tr>\n",
              "      <th>hung</th>\n",
              "      <td>4</td>\n",
              "    </tr>\n",
              "    <tr>\n",
              "      <th>in</th>\n",
              "      <td>2</td>\n",
              "    </tr>\n",
              "    <tr>\n",
              "      <th>is</th>\n",
              "      <td>9</td>\n",
              "    </tr>\n",
              "    <tr>\n",
              "      <th>it</th>\n",
              "      <td>3</td>\n",
              "    </tr>\n",
              "    <tr>\n",
              "      <th>it's</th>\n",
              "      <td>1</td>\n",
              "    </tr>\n",
              "    <tr>\n",
              "      <th>its</th>\n",
              "      <td>4</td>\n",
              "    </tr>\n",
              "    <tr>\n",
              "      <th>know</th>\n",
              "      <td>3</td>\n",
              "    </tr>\n",
              "    <tr>\n",
              "      <th>let</th>\n",
              "      <td>4</td>\n",
              "    </tr>\n",
              "    <tr>\n",
              "      <th>living</th>\n",
              "      <td>1</td>\n",
              "    </tr>\n",
              "    <tr>\n",
              "      <th>low</th>\n",
              "      <td>1</td>\n",
              "    </tr>\n",
              "    <tr>\n",
              "      <th>matter</th>\n",
              "      <td>1</td>\n",
              "    </tr>\n",
              "    <tr>\n",
              "      <th>me</th>\n",
              "      <td>5</td>\n",
              "    </tr>\n",
              "    <tr>\n",
              "      <th>mean</th>\n",
              "      <td>2</td>\n",
              "    </tr>\n",
              "    <tr>\n",
              "      <th>misunderstanding</th>\n",
              "      <td>1</td>\n",
              "    </tr>\n",
              "    <tr>\n",
              "      <th>much</th>\n",
              "      <td>1</td>\n",
              "    </tr>\n",
              "    <tr>\n",
              "      <th>must</th>\n",
              "      <td>1</td>\n",
              "    </tr>\n",
              "    <tr>\n",
              "      <th>my</th>\n",
              "      <td>1</td>\n",
              "    </tr>\n",
              "    <tr>\n",
              "      <th>no</th>\n",
              "      <td>3</td>\n",
              "    </tr>\n",
              "    <tr>\n",
              "      <th>not</th>\n",
              "      <td>1</td>\n",
              "    </tr>\n",
              "    <tr>\n",
              "      <th>nothing</th>\n",
              "      <td>8</td>\n",
              "    </tr>\n",
              "    <tr>\n",
              "      <th>one</th>\n",
              "      <td>1</td>\n",
              "    </tr>\n",
              "    <tr>\n",
              "      <th>or</th>\n",
              "      <td>1</td>\n",
              "    </tr>\n",
              "  </tbody>\n",
              "</table>\n",
              "</div>"
            ],
            "text/plain": [
              "col_0             count\n",
              "Words                  \n",
              "Fields               10\n",
              "I                     8\n",
              "Im                    4\n",
              "Strawberry           10\n",
              "a                     1\n",
              "about                 4\n",
              "all                   4\n",
              "always                1\n",
              "and                   4\n",
              "bad                   1\n",
              "be                    2\n",
              "but                   4\n",
              "cant                  1\n",
              "cause                 4\n",
              "closed                1\n",
              "disagree              1\n",
              "doesnt                1\n",
              "down                  4\n",
              "dream                 1\n",
              "easy                  1\n",
              "er                    2\n",
              "eyes                  1\n",
              "forever               6\n",
              "get                   4\n",
              "getting               1\n",
              "going                 4\n",
              "hard                  1\n",
              "high                  1\n",
              "hung                  4\n",
              "in                    2\n",
              "is                    9\n",
              "it                    3\n",
              "it's                  1\n",
              "its                   4\n",
              "know                  3\n",
              "let                   4\n",
              "living                1\n",
              "low                   1\n",
              "matter                1\n",
              "me                    5\n",
              "mean                  2\n",
              "misunderstanding      1\n",
              "much                  1\n",
              "must                  1\n",
              "my                    1\n",
              "no                    3\n",
              "not                   1\n",
              "nothing               8\n",
              "one                   1\n",
              "or                    1"
            ]
          },
          "metadata": {
            "tags": []
          },
          "execution_count": 23
        }
      ]
    },
    {
      "cell_type": "markdown",
      "metadata": {
        "id": "CdsTtNGcrc2y"
      },
      "source": [
        "Now let's do the same with Penny Lane - a song we know was written by McCartney"
      ]
    },
    {
      "cell_type": "code",
      "metadata": {
        "id": "Fh89MZnHAgcc",
        "outputId": "e6cf647c-cfcb-4172-ff97-823a5deacf37",
        "colab": {
          "base_uri": "https://localhost:8080/",
          "height": 1000
        }
      },
      "source": [
        "import pandas as pd\n",
        "\n",
        "#Penny Lane - Paul McCartney (not disputed)\n",
        "\n",
        "Lane_ = \"in Penny Lane there is a barber showing photographs of every head hes had the pleasure to know and all the people that come and go stop and say hello on the corner is a banker with a motorcar and little children laugh at him behind his back and the banker never wears a mac in the pouring rain very strange Penny Lane is in my ears and in my eyes there beneath the blue suburban skies I sit and meanwhile back in Penny Lane there is a fireman with an hourglass and in his pocket is a portrait of the Queen he likes to keep his fire engine clean its a clean machine Penny Lane is in my ears and in my eyes a four of fish and finger pies in summer meanwhile back behind the shelter in the middle of the roundabout the pretty nurse is selling poppies from a tray and though she feels as if shes in a play ahe is anyway in Penny Lane the barber shaves another customer we see the banker sitting waiting for a trim and then the fireman rushes in from the pouring rain very strange Penny Lane is in my ears and in my eyes there beneath the blue suburban skies I sit and meanwhile back Penny Lane is in my ears and in my eyes there beneath the blue suburban skies Penny Lane\"\n",
        "\n",
        "Lane_df = pd.DataFrame({\"Words\": Lane_.split()})\n",
        "\n",
        "Lane_df_freq = pd.DataFrame(pd.crosstab(index=Lane_df['Words'],columns='count'))\n",
        "\n",
        "Lane_df_freq[0:50]\n",
        "\n"
      ],
      "execution_count": null,
      "outputs": [
        {
          "output_type": "execute_result",
          "data": {
            "text/html": [
              "<div>\n",
              "<style scoped>\n",
              "    .dataframe tbody tr th:only-of-type {\n",
              "        vertical-align: middle;\n",
              "    }\n",
              "\n",
              "    .dataframe tbody tr th {\n",
              "        vertical-align: top;\n",
              "    }\n",
              "\n",
              "    .dataframe thead th {\n",
              "        text-align: right;\n",
              "    }\n",
              "</style>\n",
              "<table border=\"1\" class=\"dataframe\">\n",
              "  <thead>\n",
              "    <tr style=\"text-align: right;\">\n",
              "      <th>col_0</th>\n",
              "      <th>count</th>\n",
              "    </tr>\n",
              "    <tr>\n",
              "      <th>Words</th>\n",
              "      <th></th>\n",
              "    </tr>\n",
              "  </thead>\n",
              "  <tbody>\n",
              "    <tr>\n",
              "      <th>I</th>\n",
              "      <td>2</td>\n",
              "    </tr>\n",
              "    <tr>\n",
              "      <th>Lane</th>\n",
              "      <td>8</td>\n",
              "    </tr>\n",
              "    <tr>\n",
              "      <th>Penny</th>\n",
              "      <td>8</td>\n",
              "    </tr>\n",
              "    <tr>\n",
              "      <th>Queen</th>\n",
              "      <td>1</td>\n",
              "    </tr>\n",
              "    <tr>\n",
              "      <th>a</th>\n",
              "      <td>11</td>\n",
              "    </tr>\n",
              "    <tr>\n",
              "      <th>ahe</th>\n",
              "      <td>1</td>\n",
              "    </tr>\n",
              "    <tr>\n",
              "      <th>all</th>\n",
              "      <td>1</td>\n",
              "    </tr>\n",
              "    <tr>\n",
              "      <th>an</th>\n",
              "      <td>1</td>\n",
              "    </tr>\n",
              "    <tr>\n",
              "      <th>and</th>\n",
              "      <td>15</td>\n",
              "    </tr>\n",
              "    <tr>\n",
              "      <th>another</th>\n",
              "      <td>1</td>\n",
              "    </tr>\n",
              "    <tr>\n",
              "      <th>anyway</th>\n",
              "      <td>1</td>\n",
              "    </tr>\n",
              "    <tr>\n",
              "      <th>as</th>\n",
              "      <td>1</td>\n",
              "    </tr>\n",
              "    <tr>\n",
              "      <th>at</th>\n",
              "      <td>1</td>\n",
              "    </tr>\n",
              "    <tr>\n",
              "      <th>back</th>\n",
              "      <td>4</td>\n",
              "    </tr>\n",
              "    <tr>\n",
              "      <th>banker</th>\n",
              "      <td>3</td>\n",
              "    </tr>\n",
              "    <tr>\n",
              "      <th>barber</th>\n",
              "      <td>2</td>\n",
              "    </tr>\n",
              "    <tr>\n",
              "      <th>behind</th>\n",
              "      <td>2</td>\n",
              "    </tr>\n",
              "    <tr>\n",
              "      <th>beneath</th>\n",
              "      <td>3</td>\n",
              "    </tr>\n",
              "    <tr>\n",
              "      <th>blue</th>\n",
              "      <td>3</td>\n",
              "    </tr>\n",
              "    <tr>\n",
              "      <th>children</th>\n",
              "      <td>1</td>\n",
              "    </tr>\n",
              "    <tr>\n",
              "      <th>clean</th>\n",
              "      <td>2</td>\n",
              "    </tr>\n",
              "    <tr>\n",
              "      <th>come</th>\n",
              "      <td>1</td>\n",
              "    </tr>\n",
              "    <tr>\n",
              "      <th>corner</th>\n",
              "      <td>1</td>\n",
              "    </tr>\n",
              "    <tr>\n",
              "      <th>customer</th>\n",
              "      <td>1</td>\n",
              "    </tr>\n",
              "    <tr>\n",
              "      <th>ears</th>\n",
              "      <td>4</td>\n",
              "    </tr>\n",
              "    <tr>\n",
              "      <th>engine</th>\n",
              "      <td>1</td>\n",
              "    </tr>\n",
              "    <tr>\n",
              "      <th>every</th>\n",
              "      <td>1</td>\n",
              "    </tr>\n",
              "    <tr>\n",
              "      <th>eyes</th>\n",
              "      <td>4</td>\n",
              "    </tr>\n",
              "    <tr>\n",
              "      <th>feels</th>\n",
              "      <td>1</td>\n",
              "    </tr>\n",
              "    <tr>\n",
              "      <th>finger</th>\n",
              "      <td>1</td>\n",
              "    </tr>\n",
              "    <tr>\n",
              "      <th>fire</th>\n",
              "      <td>1</td>\n",
              "    </tr>\n",
              "    <tr>\n",
              "      <th>fireman</th>\n",
              "      <td>2</td>\n",
              "    </tr>\n",
              "    <tr>\n",
              "      <th>fish</th>\n",
              "      <td>1</td>\n",
              "    </tr>\n",
              "    <tr>\n",
              "      <th>for</th>\n",
              "      <td>1</td>\n",
              "    </tr>\n",
              "    <tr>\n",
              "      <th>four</th>\n",
              "      <td>1</td>\n",
              "    </tr>\n",
              "    <tr>\n",
              "      <th>from</th>\n",
              "      <td>2</td>\n",
              "    </tr>\n",
              "    <tr>\n",
              "      <th>go</th>\n",
              "      <td>1</td>\n",
              "    </tr>\n",
              "    <tr>\n",
              "      <th>had</th>\n",
              "      <td>1</td>\n",
              "    </tr>\n",
              "    <tr>\n",
              "      <th>he</th>\n",
              "      <td>1</td>\n",
              "    </tr>\n",
              "    <tr>\n",
              "      <th>head</th>\n",
              "      <td>1</td>\n",
              "    </tr>\n",
              "    <tr>\n",
              "      <th>hello</th>\n",
              "      <td>1</td>\n",
              "    </tr>\n",
              "    <tr>\n",
              "      <th>hes</th>\n",
              "      <td>1</td>\n",
              "    </tr>\n",
              "    <tr>\n",
              "      <th>him</th>\n",
              "      <td>1</td>\n",
              "    </tr>\n",
              "    <tr>\n",
              "      <th>his</th>\n",
              "      <td>3</td>\n",
              "    </tr>\n",
              "    <tr>\n",
              "      <th>hourglass</th>\n",
              "      <td>1</td>\n",
              "    </tr>\n",
              "    <tr>\n",
              "      <th>if</th>\n",
              "      <td>1</td>\n",
              "    </tr>\n",
              "    <tr>\n",
              "      <th>in</th>\n",
              "      <td>17</td>\n",
              "    </tr>\n",
              "    <tr>\n",
              "      <th>is</th>\n",
              "      <td>10</td>\n",
              "    </tr>\n",
              "    <tr>\n",
              "      <th>its</th>\n",
              "      <td>1</td>\n",
              "    </tr>\n",
              "    <tr>\n",
              "      <th>keep</th>\n",
              "      <td>1</td>\n",
              "    </tr>\n",
              "  </tbody>\n",
              "</table>\n",
              "</div>"
            ],
            "text/plain": [
              "col_0      count\n",
              "Words           \n",
              "I              2\n",
              "Lane           8\n",
              "Penny          8\n",
              "Queen          1\n",
              "a             11\n",
              "ahe            1\n",
              "all            1\n",
              "an             1\n",
              "and           15\n",
              "another        1\n",
              "anyway         1\n",
              "as             1\n",
              "at             1\n",
              "back           4\n",
              "banker         3\n",
              "barber         2\n",
              "behind         2\n",
              "beneath        3\n",
              "blue           3\n",
              "children       1\n",
              "clean          2\n",
              "come           1\n",
              "corner         1\n",
              "customer       1\n",
              "ears           4\n",
              "engine         1\n",
              "every          1\n",
              "eyes           4\n",
              "feels          1\n",
              "finger         1\n",
              "fire           1\n",
              "fireman        2\n",
              "fish           1\n",
              "for            1\n",
              "four           1\n",
              "from           2\n",
              "go             1\n",
              "had            1\n",
              "he             1\n",
              "head           1\n",
              "hello          1\n",
              "hes            1\n",
              "him            1\n",
              "his            3\n",
              "hourglass      1\n",
              "if             1\n",
              "in            17\n",
              "is            10\n",
              "its            1\n",
              "keep           1"
            ]
          },
          "metadata": {
            "tags": []
          },
          "execution_count": 24
        }
      ]
    },
    {
      "cell_type": "markdown",
      "metadata": {
        "id": "c8ieic21sH4j"
      },
      "source": [
        "Now we are going to concatenate the two data sets so that there is one row for each word that appears in either song and one column for each song that counts how many time that word appears in the song's lyrics."
      ]
    },
    {
      "cell_type": "code",
      "metadata": {
        "id": "5GYIQ3jf88MI",
        "outputId": "a89d332f-1ee0-4a78-84c2-930888ec9eb6",
        "colab": {
          "base_uri": "https://localhost:8080/",
          "height": 1000
        }
      },
      "source": [
        "# Compare Strawberry Fields to Penny Lane\n",
        "\n",
        "from numpy import dot\n",
        "from numpy.linalg import norm\n",
        "\n",
        "dfs = [Strawberry_df_freq, Lane_df_freq]\n",
        "\n",
        "all_words = pd.concat(dfs, axis=1)\n",
        "\n",
        "all_words[0:50]\n"
      ],
      "execution_count": null,
      "outputs": [
        {
          "output_type": "execute_result",
          "data": {
            "text/html": [
              "<div>\n",
              "<style scoped>\n",
              "    .dataframe tbody tr th:only-of-type {\n",
              "        vertical-align: middle;\n",
              "    }\n",
              "\n",
              "    .dataframe tbody tr th {\n",
              "        vertical-align: top;\n",
              "    }\n",
              "\n",
              "    .dataframe thead th {\n",
              "        text-align: right;\n",
              "    }\n",
              "</style>\n",
              "<table border=\"1\" class=\"dataframe\">\n",
              "  <thead>\n",
              "    <tr style=\"text-align: right;\">\n",
              "      <th>col_0</th>\n",
              "      <th>count</th>\n",
              "      <th>count</th>\n",
              "    </tr>\n",
              "  </thead>\n",
              "  <tbody>\n",
              "    <tr>\n",
              "      <th>Fields</th>\n",
              "      <td>10.0</td>\n",
              "      <td>NaN</td>\n",
              "    </tr>\n",
              "    <tr>\n",
              "      <th>I</th>\n",
              "      <td>8.0</td>\n",
              "      <td>2.0</td>\n",
              "    </tr>\n",
              "    <tr>\n",
              "      <th>Im</th>\n",
              "      <td>4.0</td>\n",
              "      <td>NaN</td>\n",
              "    </tr>\n",
              "    <tr>\n",
              "      <th>Strawberry</th>\n",
              "      <td>10.0</td>\n",
              "      <td>NaN</td>\n",
              "    </tr>\n",
              "    <tr>\n",
              "      <th>a</th>\n",
              "      <td>1.0</td>\n",
              "      <td>11.0</td>\n",
              "    </tr>\n",
              "    <tr>\n",
              "      <th>about</th>\n",
              "      <td>4.0</td>\n",
              "      <td>NaN</td>\n",
              "    </tr>\n",
              "    <tr>\n",
              "      <th>all</th>\n",
              "      <td>4.0</td>\n",
              "      <td>1.0</td>\n",
              "    </tr>\n",
              "    <tr>\n",
              "      <th>always</th>\n",
              "      <td>1.0</td>\n",
              "      <td>NaN</td>\n",
              "    </tr>\n",
              "    <tr>\n",
              "      <th>and</th>\n",
              "      <td>4.0</td>\n",
              "      <td>15.0</td>\n",
              "    </tr>\n",
              "    <tr>\n",
              "      <th>bad</th>\n",
              "      <td>1.0</td>\n",
              "      <td>NaN</td>\n",
              "    </tr>\n",
              "    <tr>\n",
              "      <th>be</th>\n",
              "      <td>2.0</td>\n",
              "      <td>NaN</td>\n",
              "    </tr>\n",
              "    <tr>\n",
              "      <th>but</th>\n",
              "      <td>4.0</td>\n",
              "      <td>NaN</td>\n",
              "    </tr>\n",
              "    <tr>\n",
              "      <th>cant</th>\n",
              "      <td>1.0</td>\n",
              "      <td>NaN</td>\n",
              "    </tr>\n",
              "    <tr>\n",
              "      <th>cause</th>\n",
              "      <td>4.0</td>\n",
              "      <td>NaN</td>\n",
              "    </tr>\n",
              "    <tr>\n",
              "      <th>closed</th>\n",
              "      <td>1.0</td>\n",
              "      <td>NaN</td>\n",
              "    </tr>\n",
              "    <tr>\n",
              "      <th>disagree</th>\n",
              "      <td>1.0</td>\n",
              "      <td>NaN</td>\n",
              "    </tr>\n",
              "    <tr>\n",
              "      <th>doesnt</th>\n",
              "      <td>1.0</td>\n",
              "      <td>NaN</td>\n",
              "    </tr>\n",
              "    <tr>\n",
              "      <th>down</th>\n",
              "      <td>4.0</td>\n",
              "      <td>NaN</td>\n",
              "    </tr>\n",
              "    <tr>\n",
              "      <th>dream</th>\n",
              "      <td>1.0</td>\n",
              "      <td>NaN</td>\n",
              "    </tr>\n",
              "    <tr>\n",
              "      <th>easy</th>\n",
              "      <td>1.0</td>\n",
              "      <td>NaN</td>\n",
              "    </tr>\n",
              "    <tr>\n",
              "      <th>er</th>\n",
              "      <td>2.0</td>\n",
              "      <td>NaN</td>\n",
              "    </tr>\n",
              "    <tr>\n",
              "      <th>eyes</th>\n",
              "      <td>1.0</td>\n",
              "      <td>4.0</td>\n",
              "    </tr>\n",
              "    <tr>\n",
              "      <th>forever</th>\n",
              "      <td>6.0</td>\n",
              "      <td>NaN</td>\n",
              "    </tr>\n",
              "    <tr>\n",
              "      <th>get</th>\n",
              "      <td>4.0</td>\n",
              "      <td>NaN</td>\n",
              "    </tr>\n",
              "    <tr>\n",
              "      <th>getting</th>\n",
              "      <td>1.0</td>\n",
              "      <td>NaN</td>\n",
              "    </tr>\n",
              "    <tr>\n",
              "      <th>going</th>\n",
              "      <td>4.0</td>\n",
              "      <td>NaN</td>\n",
              "    </tr>\n",
              "    <tr>\n",
              "      <th>hard</th>\n",
              "      <td>1.0</td>\n",
              "      <td>NaN</td>\n",
              "    </tr>\n",
              "    <tr>\n",
              "      <th>high</th>\n",
              "      <td>1.0</td>\n",
              "      <td>NaN</td>\n",
              "    </tr>\n",
              "    <tr>\n",
              "      <th>hung</th>\n",
              "      <td>4.0</td>\n",
              "      <td>NaN</td>\n",
              "    </tr>\n",
              "    <tr>\n",
              "      <th>in</th>\n",
              "      <td>2.0</td>\n",
              "      <td>17.0</td>\n",
              "    </tr>\n",
              "    <tr>\n",
              "      <th>is</th>\n",
              "      <td>9.0</td>\n",
              "      <td>10.0</td>\n",
              "    </tr>\n",
              "    <tr>\n",
              "      <th>it</th>\n",
              "      <td>3.0</td>\n",
              "      <td>NaN</td>\n",
              "    </tr>\n",
              "    <tr>\n",
              "      <th>it's</th>\n",
              "      <td>1.0</td>\n",
              "      <td>NaN</td>\n",
              "    </tr>\n",
              "    <tr>\n",
              "      <th>its</th>\n",
              "      <td>4.0</td>\n",
              "      <td>1.0</td>\n",
              "    </tr>\n",
              "    <tr>\n",
              "      <th>know</th>\n",
              "      <td>3.0</td>\n",
              "      <td>1.0</td>\n",
              "    </tr>\n",
              "    <tr>\n",
              "      <th>let</th>\n",
              "      <td>4.0</td>\n",
              "      <td>NaN</td>\n",
              "    </tr>\n",
              "    <tr>\n",
              "      <th>living</th>\n",
              "      <td>1.0</td>\n",
              "      <td>NaN</td>\n",
              "    </tr>\n",
              "    <tr>\n",
              "      <th>low</th>\n",
              "      <td>1.0</td>\n",
              "      <td>NaN</td>\n",
              "    </tr>\n",
              "    <tr>\n",
              "      <th>matter</th>\n",
              "      <td>1.0</td>\n",
              "      <td>NaN</td>\n",
              "    </tr>\n",
              "    <tr>\n",
              "      <th>me</th>\n",
              "      <td>5.0</td>\n",
              "      <td>NaN</td>\n",
              "    </tr>\n",
              "    <tr>\n",
              "      <th>mean</th>\n",
              "      <td>2.0</td>\n",
              "      <td>NaN</td>\n",
              "    </tr>\n",
              "    <tr>\n",
              "      <th>misunderstanding</th>\n",
              "      <td>1.0</td>\n",
              "      <td>NaN</td>\n",
              "    </tr>\n",
              "    <tr>\n",
              "      <th>much</th>\n",
              "      <td>1.0</td>\n",
              "      <td>NaN</td>\n",
              "    </tr>\n",
              "    <tr>\n",
              "      <th>must</th>\n",
              "      <td>1.0</td>\n",
              "      <td>NaN</td>\n",
              "    </tr>\n",
              "    <tr>\n",
              "      <th>my</th>\n",
              "      <td>1.0</td>\n",
              "      <td>8.0</td>\n",
              "    </tr>\n",
              "    <tr>\n",
              "      <th>no</th>\n",
              "      <td>3.0</td>\n",
              "      <td>NaN</td>\n",
              "    </tr>\n",
              "    <tr>\n",
              "      <th>not</th>\n",
              "      <td>1.0</td>\n",
              "      <td>NaN</td>\n",
              "    </tr>\n",
              "    <tr>\n",
              "      <th>nothing</th>\n",
              "      <td>8.0</td>\n",
              "      <td>NaN</td>\n",
              "    </tr>\n",
              "    <tr>\n",
              "      <th>one</th>\n",
              "      <td>1.0</td>\n",
              "      <td>NaN</td>\n",
              "    </tr>\n",
              "    <tr>\n",
              "      <th>or</th>\n",
              "      <td>1.0</td>\n",
              "      <td>NaN</td>\n",
              "    </tr>\n",
              "  </tbody>\n",
              "</table>\n",
              "</div>"
            ],
            "text/plain": [
              "col_0             count  count\n",
              "Fields             10.0    NaN\n",
              "I                   8.0    2.0\n",
              "Im                  4.0    NaN\n",
              "Strawberry         10.0    NaN\n",
              "a                   1.0   11.0\n",
              "about               4.0    NaN\n",
              "all                 4.0    1.0\n",
              "always              1.0    NaN\n",
              "and                 4.0   15.0\n",
              "bad                 1.0    NaN\n",
              "be                  2.0    NaN\n",
              "but                 4.0    NaN\n",
              "cant                1.0    NaN\n",
              "cause               4.0    NaN\n",
              "closed              1.0    NaN\n",
              "disagree            1.0    NaN\n",
              "doesnt              1.0    NaN\n",
              "down                4.0    NaN\n",
              "dream               1.0    NaN\n",
              "easy                1.0    NaN\n",
              "er                  2.0    NaN\n",
              "eyes                1.0    4.0\n",
              "forever             6.0    NaN\n",
              "get                 4.0    NaN\n",
              "getting             1.0    NaN\n",
              "going               4.0    NaN\n",
              "hard                1.0    NaN\n",
              "high                1.0    NaN\n",
              "hung                4.0    NaN\n",
              "in                  2.0   17.0\n",
              "is                  9.0   10.0\n",
              "it                  3.0    NaN\n",
              "it's                1.0    NaN\n",
              "its                 4.0    1.0\n",
              "know                3.0    1.0\n",
              "let                 4.0    NaN\n",
              "living              1.0    NaN\n",
              "low                 1.0    NaN\n",
              "matter              1.0    NaN\n",
              "me                  5.0    NaN\n",
              "mean                2.0    NaN\n",
              "misunderstanding    1.0    NaN\n",
              "much                1.0    NaN\n",
              "must                1.0    NaN\n",
              "my                  1.0    8.0\n",
              "no                  3.0    NaN\n",
              "not                 1.0    NaN\n",
              "nothing             8.0    NaN\n",
              "one                 1.0    NaN\n",
              "or                  1.0    NaN"
            ]
          },
          "metadata": {
            "tags": []
          },
          "execution_count": 25
        }
      ]
    },
    {
      "cell_type": "markdown",
      "metadata": {
        "id": "hJ-wIIvzuBaV"
      },
      "source": [
        "We want to rename the first column so we know it is the word count from Strawberry Fields and the second column so we know it is the word count from Penny Lane.  \n",
        "\n",
        "Also, we want to change the NaNs present to 0s because they indicate that a word that was in one song was not included in the other song."
      ]
    },
    {
      "cell_type": "code",
      "metadata": {
        "id": "ptEDEGNzt5Zz",
        "outputId": "07bd9ffe-5956-4382-f73c-18fd0f9b027f",
        "colab": {
          "base_uri": "https://localhost:8080/",
          "height": 1000
        }
      },
      "source": [
        "\n",
        "all_words = all_words.fillna(0)\n",
        "all_words.columns = [\"Strawberry Fields\", \"Penny Lane\"]\n",
        "all_words[0:50]\n"
      ],
      "execution_count": null,
      "outputs": [
        {
          "output_type": "execute_result",
          "data": {
            "text/html": [
              "<div>\n",
              "<style scoped>\n",
              "    .dataframe tbody tr th:only-of-type {\n",
              "        vertical-align: middle;\n",
              "    }\n",
              "\n",
              "    .dataframe tbody tr th {\n",
              "        vertical-align: top;\n",
              "    }\n",
              "\n",
              "    .dataframe thead th {\n",
              "        text-align: right;\n",
              "    }\n",
              "</style>\n",
              "<table border=\"1\" class=\"dataframe\">\n",
              "  <thead>\n",
              "    <tr style=\"text-align: right;\">\n",
              "      <th></th>\n",
              "      <th>Strawberry Fields</th>\n",
              "      <th>Penny Lane</th>\n",
              "    </tr>\n",
              "  </thead>\n",
              "  <tbody>\n",
              "    <tr>\n",
              "      <th>Fields</th>\n",
              "      <td>10.0</td>\n",
              "      <td>0.0</td>\n",
              "    </tr>\n",
              "    <tr>\n",
              "      <th>I</th>\n",
              "      <td>8.0</td>\n",
              "      <td>2.0</td>\n",
              "    </tr>\n",
              "    <tr>\n",
              "      <th>Im</th>\n",
              "      <td>4.0</td>\n",
              "      <td>0.0</td>\n",
              "    </tr>\n",
              "    <tr>\n",
              "      <th>Strawberry</th>\n",
              "      <td>10.0</td>\n",
              "      <td>0.0</td>\n",
              "    </tr>\n",
              "    <tr>\n",
              "      <th>a</th>\n",
              "      <td>1.0</td>\n",
              "      <td>11.0</td>\n",
              "    </tr>\n",
              "    <tr>\n",
              "      <th>about</th>\n",
              "      <td>4.0</td>\n",
              "      <td>0.0</td>\n",
              "    </tr>\n",
              "    <tr>\n",
              "      <th>all</th>\n",
              "      <td>4.0</td>\n",
              "      <td>1.0</td>\n",
              "    </tr>\n",
              "    <tr>\n",
              "      <th>always</th>\n",
              "      <td>1.0</td>\n",
              "      <td>0.0</td>\n",
              "    </tr>\n",
              "    <tr>\n",
              "      <th>and</th>\n",
              "      <td>4.0</td>\n",
              "      <td>15.0</td>\n",
              "    </tr>\n",
              "    <tr>\n",
              "      <th>bad</th>\n",
              "      <td>1.0</td>\n",
              "      <td>0.0</td>\n",
              "    </tr>\n",
              "    <tr>\n",
              "      <th>be</th>\n",
              "      <td>2.0</td>\n",
              "      <td>0.0</td>\n",
              "    </tr>\n",
              "    <tr>\n",
              "      <th>but</th>\n",
              "      <td>4.0</td>\n",
              "      <td>0.0</td>\n",
              "    </tr>\n",
              "    <tr>\n",
              "      <th>cant</th>\n",
              "      <td>1.0</td>\n",
              "      <td>0.0</td>\n",
              "    </tr>\n",
              "    <tr>\n",
              "      <th>cause</th>\n",
              "      <td>4.0</td>\n",
              "      <td>0.0</td>\n",
              "    </tr>\n",
              "    <tr>\n",
              "      <th>closed</th>\n",
              "      <td>1.0</td>\n",
              "      <td>0.0</td>\n",
              "    </tr>\n",
              "    <tr>\n",
              "      <th>disagree</th>\n",
              "      <td>1.0</td>\n",
              "      <td>0.0</td>\n",
              "    </tr>\n",
              "    <tr>\n",
              "      <th>doesnt</th>\n",
              "      <td>1.0</td>\n",
              "      <td>0.0</td>\n",
              "    </tr>\n",
              "    <tr>\n",
              "      <th>down</th>\n",
              "      <td>4.0</td>\n",
              "      <td>0.0</td>\n",
              "    </tr>\n",
              "    <tr>\n",
              "      <th>dream</th>\n",
              "      <td>1.0</td>\n",
              "      <td>0.0</td>\n",
              "    </tr>\n",
              "    <tr>\n",
              "      <th>easy</th>\n",
              "      <td>1.0</td>\n",
              "      <td>0.0</td>\n",
              "    </tr>\n",
              "    <tr>\n",
              "      <th>er</th>\n",
              "      <td>2.0</td>\n",
              "      <td>0.0</td>\n",
              "    </tr>\n",
              "    <tr>\n",
              "      <th>eyes</th>\n",
              "      <td>1.0</td>\n",
              "      <td>4.0</td>\n",
              "    </tr>\n",
              "    <tr>\n",
              "      <th>forever</th>\n",
              "      <td>6.0</td>\n",
              "      <td>0.0</td>\n",
              "    </tr>\n",
              "    <tr>\n",
              "      <th>get</th>\n",
              "      <td>4.0</td>\n",
              "      <td>0.0</td>\n",
              "    </tr>\n",
              "    <tr>\n",
              "      <th>getting</th>\n",
              "      <td>1.0</td>\n",
              "      <td>0.0</td>\n",
              "    </tr>\n",
              "    <tr>\n",
              "      <th>going</th>\n",
              "      <td>4.0</td>\n",
              "      <td>0.0</td>\n",
              "    </tr>\n",
              "    <tr>\n",
              "      <th>hard</th>\n",
              "      <td>1.0</td>\n",
              "      <td>0.0</td>\n",
              "    </tr>\n",
              "    <tr>\n",
              "      <th>high</th>\n",
              "      <td>1.0</td>\n",
              "      <td>0.0</td>\n",
              "    </tr>\n",
              "    <tr>\n",
              "      <th>hung</th>\n",
              "      <td>4.0</td>\n",
              "      <td>0.0</td>\n",
              "    </tr>\n",
              "    <tr>\n",
              "      <th>in</th>\n",
              "      <td>2.0</td>\n",
              "      <td>17.0</td>\n",
              "    </tr>\n",
              "    <tr>\n",
              "      <th>is</th>\n",
              "      <td>9.0</td>\n",
              "      <td>10.0</td>\n",
              "    </tr>\n",
              "    <tr>\n",
              "      <th>it</th>\n",
              "      <td>3.0</td>\n",
              "      <td>0.0</td>\n",
              "    </tr>\n",
              "    <tr>\n",
              "      <th>it's</th>\n",
              "      <td>1.0</td>\n",
              "      <td>0.0</td>\n",
              "    </tr>\n",
              "    <tr>\n",
              "      <th>its</th>\n",
              "      <td>4.0</td>\n",
              "      <td>1.0</td>\n",
              "    </tr>\n",
              "    <tr>\n",
              "      <th>know</th>\n",
              "      <td>3.0</td>\n",
              "      <td>1.0</td>\n",
              "    </tr>\n",
              "    <tr>\n",
              "      <th>let</th>\n",
              "      <td>4.0</td>\n",
              "      <td>0.0</td>\n",
              "    </tr>\n",
              "    <tr>\n",
              "      <th>living</th>\n",
              "      <td>1.0</td>\n",
              "      <td>0.0</td>\n",
              "    </tr>\n",
              "    <tr>\n",
              "      <th>low</th>\n",
              "      <td>1.0</td>\n",
              "      <td>0.0</td>\n",
              "    </tr>\n",
              "    <tr>\n",
              "      <th>matter</th>\n",
              "      <td>1.0</td>\n",
              "      <td>0.0</td>\n",
              "    </tr>\n",
              "    <tr>\n",
              "      <th>me</th>\n",
              "      <td>5.0</td>\n",
              "      <td>0.0</td>\n",
              "    </tr>\n",
              "    <tr>\n",
              "      <th>mean</th>\n",
              "      <td>2.0</td>\n",
              "      <td>0.0</td>\n",
              "    </tr>\n",
              "    <tr>\n",
              "      <th>misunderstanding</th>\n",
              "      <td>1.0</td>\n",
              "      <td>0.0</td>\n",
              "    </tr>\n",
              "    <tr>\n",
              "      <th>much</th>\n",
              "      <td>1.0</td>\n",
              "      <td>0.0</td>\n",
              "    </tr>\n",
              "    <tr>\n",
              "      <th>must</th>\n",
              "      <td>1.0</td>\n",
              "      <td>0.0</td>\n",
              "    </tr>\n",
              "    <tr>\n",
              "      <th>my</th>\n",
              "      <td>1.0</td>\n",
              "      <td>8.0</td>\n",
              "    </tr>\n",
              "    <tr>\n",
              "      <th>no</th>\n",
              "      <td>3.0</td>\n",
              "      <td>0.0</td>\n",
              "    </tr>\n",
              "    <tr>\n",
              "      <th>not</th>\n",
              "      <td>1.0</td>\n",
              "      <td>0.0</td>\n",
              "    </tr>\n",
              "    <tr>\n",
              "      <th>nothing</th>\n",
              "      <td>8.0</td>\n",
              "      <td>0.0</td>\n",
              "    </tr>\n",
              "    <tr>\n",
              "      <th>one</th>\n",
              "      <td>1.0</td>\n",
              "      <td>0.0</td>\n",
              "    </tr>\n",
              "    <tr>\n",
              "      <th>or</th>\n",
              "      <td>1.0</td>\n",
              "      <td>0.0</td>\n",
              "    </tr>\n",
              "  </tbody>\n",
              "</table>\n",
              "</div>"
            ],
            "text/plain": [
              "                  Strawberry Fields  Penny Lane\n",
              "Fields                         10.0         0.0\n",
              "I                               8.0         2.0\n",
              "Im                              4.0         0.0\n",
              "Strawberry                     10.0         0.0\n",
              "a                               1.0        11.0\n",
              "about                           4.0         0.0\n",
              "all                             4.0         1.0\n",
              "always                          1.0         0.0\n",
              "and                             4.0        15.0\n",
              "bad                             1.0         0.0\n",
              "be                              2.0         0.0\n",
              "but                             4.0         0.0\n",
              "cant                            1.0         0.0\n",
              "cause                           4.0         0.0\n",
              "closed                          1.0         0.0\n",
              "disagree                        1.0         0.0\n",
              "doesnt                          1.0         0.0\n",
              "down                            4.0         0.0\n",
              "dream                           1.0         0.0\n",
              "easy                            1.0         0.0\n",
              "er                              2.0         0.0\n",
              "eyes                            1.0         4.0\n",
              "forever                         6.0         0.0\n",
              "get                             4.0         0.0\n",
              "getting                         1.0         0.0\n",
              "going                           4.0         0.0\n",
              "hard                            1.0         0.0\n",
              "high                            1.0         0.0\n",
              "hung                            4.0         0.0\n",
              "in                              2.0        17.0\n",
              "is                              9.0        10.0\n",
              "it                              3.0         0.0\n",
              "it's                            1.0         0.0\n",
              "its                             4.0         1.0\n",
              "know                            3.0         1.0\n",
              "let                             4.0         0.0\n",
              "living                          1.0         0.0\n",
              "low                             1.0         0.0\n",
              "matter                          1.0         0.0\n",
              "me                              5.0         0.0\n",
              "mean                            2.0         0.0\n",
              "misunderstanding                1.0         0.0\n",
              "much                            1.0         0.0\n",
              "must                            1.0         0.0\n",
              "my                              1.0         8.0\n",
              "no                              3.0         0.0\n",
              "not                             1.0         0.0\n",
              "nothing                         8.0         0.0\n",
              "one                             1.0         0.0\n",
              "or                              1.0         0.0"
            ]
          },
          "metadata": {
            "tags": []
          },
          "execution_count": 26
        }
      ]
    },
    {
      "cell_type": "markdown",
      "metadata": {
        "id": "A1foHf3mumhO"
      },
      "source": [
        "Now we can have two numeric vectors that represent the lyric frequency of each song, and we an compare them using the cosine similarity.  "
      ]
    },
    {
      "cell_type": "code",
      "metadata": {
        "id": "PUDYI4zxuZGc",
        "outputId": "9312bb9e-4a74-43f6-d5ae-e5d7895d9d7e",
        "colab": {
          "base_uri": "https://localhost:8080/",
          "height": 34
        }
      },
      "source": [
        "#cos_sim = dot product Strawberry Fields and Penny Lane / norm(Strawberry Fields) * norm (Penny Lane)\n",
        "cos_sim = dot(all_words[\"Strawberry Fields\"], all_words[\"Penny Lane\"])/(norm(all_words[\"Strawberry Fields\"])*norm(all_words[\"Penny Lane\"]))\n",
        "\n",
        "print(cos_sim)\n"
      ],
      "execution_count": null,
      "outputs": [
        {
          "output_type": "stream",
          "text": [
            "0.21590157172853788\n"
          ],
          "name": "stdout"
        }
      ]
    },
    {
      "cell_type": "markdown",
      "metadata": {
        "id": "u-UbDnpWvd_B"
      },
      "source": [
        "We can use this value (cosine similarity = 0.22) as a baseline.  This is the similarity between two songs that were written by close colaborators but we know were not written by the same individual."
      ]
    },
    {
      "cell_type": "markdown",
      "metadata": {
        "id": "hj3Ee1dKwY75"
      },
      "source": [
        "Let's load in two more songs: From Me to You (collaborative, not disputed) and In My Life (the disputed song)"
      ]
    },
    {
      "cell_type": "code",
      "metadata": {
        "id": "jKcCwgydn0Rr",
        "outputId": "6e5862f0-7c20-4686-ebb1-1e74db8e565c",
        "colab": {
          "base_uri": "https://localhost:8080/",
          "height": 1000
        }
      },
      "source": [
        "#From Me to You - Lennon and McCartney (not disputed)\n",
        "\n",
        "Me_ = \"if there's anything that you want if there's anything I can do just call on me and Ill send it along with love from me to you Ive got everything that you want like a heart thats oh so true just call on me and Ill send it along with love from me to you Ive got arms that long to hold you and keep you by my side Ive got lips that long to kiss you and keep you satisfied oh if theres anything that you want if theres anything I can do just call on me and Ill send it along with love from me to you from me to you just call on me and Ill send it along with love from me to you Ive got arms that long to hold you and keep you by my side Ive got lips that long to kiss you and keep you satisfied oh if theres anything that you want if theres anything I can do just call on me and Ill send it along with love from me to you to you to you to you\"\n",
        "\n",
        "Me_df = pd.DataFrame({\"Words\": Me_.split()})\n",
        "\n",
        "Me_df_freq = pd.DataFrame(pd.crosstab(index=Me_df['Words'],columns='count'))\n",
        "\n",
        "Me_df_freq[0:50]"
      ],
      "execution_count": null,
      "outputs": [
        {
          "output_type": "execute_result",
          "data": {
            "text/html": [
              "<div>\n",
              "<style scoped>\n",
              "    .dataframe tbody tr th:only-of-type {\n",
              "        vertical-align: middle;\n",
              "    }\n",
              "\n",
              "    .dataframe tbody tr th {\n",
              "        vertical-align: top;\n",
              "    }\n",
              "\n",
              "    .dataframe thead th {\n",
              "        text-align: right;\n",
              "    }\n",
              "</style>\n",
              "<table border=\"1\" class=\"dataframe\">\n",
              "  <thead>\n",
              "    <tr style=\"text-align: right;\">\n",
              "      <th>col_0</th>\n",
              "      <th>count</th>\n",
              "    </tr>\n",
              "    <tr>\n",
              "      <th>Words</th>\n",
              "      <th></th>\n",
              "    </tr>\n",
              "  </thead>\n",
              "  <tbody>\n",
              "    <tr>\n",
              "      <th>I</th>\n",
              "      <td>3</td>\n",
              "    </tr>\n",
              "    <tr>\n",
              "      <th>Ill</th>\n",
              "      <td>5</td>\n",
              "    </tr>\n",
              "    <tr>\n",
              "      <th>Ive</th>\n",
              "      <td>5</td>\n",
              "    </tr>\n",
              "    <tr>\n",
              "      <th>a</th>\n",
              "      <td>1</td>\n",
              "    </tr>\n",
              "    <tr>\n",
              "      <th>along</th>\n",
              "      <td>5</td>\n",
              "    </tr>\n",
              "    <tr>\n",
              "      <th>and</th>\n",
              "      <td>9</td>\n",
              "    </tr>\n",
              "    <tr>\n",
              "      <th>anything</th>\n",
              "      <td>6</td>\n",
              "    </tr>\n",
              "    <tr>\n",
              "      <th>arms</th>\n",
              "      <td>2</td>\n",
              "    </tr>\n",
              "    <tr>\n",
              "      <th>by</th>\n",
              "      <td>2</td>\n",
              "    </tr>\n",
              "    <tr>\n",
              "      <th>call</th>\n",
              "      <td>5</td>\n",
              "    </tr>\n",
              "    <tr>\n",
              "      <th>can</th>\n",
              "      <td>3</td>\n",
              "    </tr>\n",
              "    <tr>\n",
              "      <th>do</th>\n",
              "      <td>3</td>\n",
              "    </tr>\n",
              "    <tr>\n",
              "      <th>everything</th>\n",
              "      <td>1</td>\n",
              "    </tr>\n",
              "    <tr>\n",
              "      <th>from</th>\n",
              "      <td>6</td>\n",
              "    </tr>\n",
              "    <tr>\n",
              "      <th>got</th>\n",
              "      <td>5</td>\n",
              "    </tr>\n",
              "    <tr>\n",
              "      <th>heart</th>\n",
              "      <td>1</td>\n",
              "    </tr>\n",
              "    <tr>\n",
              "      <th>hold</th>\n",
              "      <td>2</td>\n",
              "    </tr>\n",
              "    <tr>\n",
              "      <th>if</th>\n",
              "      <td>6</td>\n",
              "    </tr>\n",
              "    <tr>\n",
              "      <th>it</th>\n",
              "      <td>5</td>\n",
              "    </tr>\n",
              "    <tr>\n",
              "      <th>just</th>\n",
              "      <td>5</td>\n",
              "    </tr>\n",
              "    <tr>\n",
              "      <th>keep</th>\n",
              "      <td>4</td>\n",
              "    </tr>\n",
              "    <tr>\n",
              "      <th>kiss</th>\n",
              "      <td>2</td>\n",
              "    </tr>\n",
              "    <tr>\n",
              "      <th>like</th>\n",
              "      <td>1</td>\n",
              "    </tr>\n",
              "    <tr>\n",
              "      <th>lips</th>\n",
              "      <td>2</td>\n",
              "    </tr>\n",
              "    <tr>\n",
              "      <th>long</th>\n",
              "      <td>4</td>\n",
              "    </tr>\n",
              "    <tr>\n",
              "      <th>love</th>\n",
              "      <td>5</td>\n",
              "    </tr>\n",
              "    <tr>\n",
              "      <th>me</th>\n",
              "      <td>11</td>\n",
              "    </tr>\n",
              "    <tr>\n",
              "      <th>my</th>\n",
              "      <td>2</td>\n",
              "    </tr>\n",
              "    <tr>\n",
              "      <th>oh</th>\n",
              "      <td>3</td>\n",
              "    </tr>\n",
              "    <tr>\n",
              "      <th>on</th>\n",
              "      <td>5</td>\n",
              "    </tr>\n",
              "    <tr>\n",
              "      <th>satisfied</th>\n",
              "      <td>2</td>\n",
              "    </tr>\n",
              "    <tr>\n",
              "      <th>send</th>\n",
              "      <td>5</td>\n",
              "    </tr>\n",
              "    <tr>\n",
              "      <th>side</th>\n",
              "      <td>2</td>\n",
              "    </tr>\n",
              "    <tr>\n",
              "      <th>so</th>\n",
              "      <td>1</td>\n",
              "    </tr>\n",
              "    <tr>\n",
              "      <th>that</th>\n",
              "      <td>8</td>\n",
              "    </tr>\n",
              "    <tr>\n",
              "      <th>thats</th>\n",
              "      <td>1</td>\n",
              "    </tr>\n",
              "    <tr>\n",
              "      <th>there's</th>\n",
              "      <td>2</td>\n",
              "    </tr>\n",
              "    <tr>\n",
              "      <th>theres</th>\n",
              "      <td>4</td>\n",
              "    </tr>\n",
              "    <tr>\n",
              "      <th>to</th>\n",
              "      <td>13</td>\n",
              "    </tr>\n",
              "    <tr>\n",
              "      <th>true</th>\n",
              "      <td>1</td>\n",
              "    </tr>\n",
              "    <tr>\n",
              "      <th>want</th>\n",
              "      <td>4</td>\n",
              "    </tr>\n",
              "    <tr>\n",
              "      <th>with</th>\n",
              "      <td>5</td>\n",
              "    </tr>\n",
              "    <tr>\n",
              "      <th>you</th>\n",
              "      <td>21</td>\n",
              "    </tr>\n",
              "  </tbody>\n",
              "</table>\n",
              "</div>"
            ],
            "text/plain": [
              "col_0       count\n",
              "Words            \n",
              "I               3\n",
              "Ill             5\n",
              "Ive             5\n",
              "a               1\n",
              "along           5\n",
              "and             9\n",
              "anything        6\n",
              "arms            2\n",
              "by              2\n",
              "call            5\n",
              "can             3\n",
              "do              3\n",
              "everything      1\n",
              "from            6\n",
              "got             5\n",
              "heart           1\n",
              "hold            2\n",
              "if              6\n",
              "it              5\n",
              "just            5\n",
              "keep            4\n",
              "kiss            2\n",
              "like            1\n",
              "lips            2\n",
              "long            4\n",
              "love            5\n",
              "me             11\n",
              "my              2\n",
              "oh              3\n",
              "on              5\n",
              "satisfied       2\n",
              "send            5\n",
              "side            2\n",
              "so              1\n",
              "that            8\n",
              "thats           1\n",
              "there's         2\n",
              "theres          4\n",
              "to             13\n",
              "true            1\n",
              "want            4\n",
              "with            5\n",
              "you            21"
            ]
          },
          "metadata": {
            "tags": []
          },
          "execution_count": 28
        }
      ]
    },
    {
      "cell_type": "code",
      "metadata": {
        "id": "kRXbhykPD2at",
        "outputId": "355a09d0-1d07-49cd-a6e1-fbae79a02858",
        "colab": {
          "base_uri": "https://localhost:8080/",
          "height": 1000
        }
      },
      "source": [
        "\n",
        "#In My Life - Lennon or McCartney (disputed)\n",
        "\n",
        "Life_ = \"there are places Ill remember all my life though some have changed some forever, not for better some have gone and some remain all these places had their moments with lovers and friends I still can recall some are dead and some are living in my life Ive loved them all but of all these friends and lovers there is no one compares with you and these memories lose their meaning when I think of love as something new though I know Ill never lose affection for people and things that went before I know Ill often stop and think about them in my life Ill love you more though I know Ill never lose affection for people and things that went before I know Ill often stop and think about them in my life Ill love you more in my life Ill love you more\"\n",
        "\n",
        "Life_df = pd.DataFrame({\"Words\": Life_.split()})\n",
        "\n",
        "Life_df_freq = pd.DataFrame(pd.crosstab(index=Life_df['Words'],columns='count'))\n",
        "\n",
        "Life_df_freq[0:50]\n",
        "\n"
      ],
      "execution_count": null,
      "outputs": [
        {
          "output_type": "execute_result",
          "data": {
            "text/html": [
              "<div>\n",
              "<style scoped>\n",
              "    .dataframe tbody tr th:only-of-type {\n",
              "        vertical-align: middle;\n",
              "    }\n",
              "\n",
              "    .dataframe tbody tr th {\n",
              "        vertical-align: top;\n",
              "    }\n",
              "\n",
              "    .dataframe thead th {\n",
              "        text-align: right;\n",
              "    }\n",
              "</style>\n",
              "<table border=\"1\" class=\"dataframe\">\n",
              "  <thead>\n",
              "    <tr style=\"text-align: right;\">\n",
              "      <th>col_0</th>\n",
              "      <th>count</th>\n",
              "    </tr>\n",
              "    <tr>\n",
              "      <th>Words</th>\n",
              "      <th></th>\n",
              "    </tr>\n",
              "  </thead>\n",
              "  <tbody>\n",
              "    <tr>\n",
              "      <th>I</th>\n",
              "      <td>6</td>\n",
              "    </tr>\n",
              "    <tr>\n",
              "      <th>Ill</th>\n",
              "      <td>8</td>\n",
              "    </tr>\n",
              "    <tr>\n",
              "      <th>Ive</th>\n",
              "      <td>1</td>\n",
              "    </tr>\n",
              "    <tr>\n",
              "      <th>about</th>\n",
              "      <td>2</td>\n",
              "    </tr>\n",
              "    <tr>\n",
              "      <th>affection</th>\n",
              "      <td>2</td>\n",
              "    </tr>\n",
              "    <tr>\n",
              "      <th>all</th>\n",
              "      <td>4</td>\n",
              "    </tr>\n",
              "    <tr>\n",
              "      <th>and</th>\n",
              "      <td>9</td>\n",
              "    </tr>\n",
              "    <tr>\n",
              "      <th>are</th>\n",
              "      <td>3</td>\n",
              "    </tr>\n",
              "    <tr>\n",
              "      <th>as</th>\n",
              "      <td>1</td>\n",
              "    </tr>\n",
              "    <tr>\n",
              "      <th>before</th>\n",
              "      <td>2</td>\n",
              "    </tr>\n",
              "    <tr>\n",
              "      <th>better</th>\n",
              "      <td>1</td>\n",
              "    </tr>\n",
              "    <tr>\n",
              "      <th>but</th>\n",
              "      <td>1</td>\n",
              "    </tr>\n",
              "    <tr>\n",
              "      <th>can</th>\n",
              "      <td>1</td>\n",
              "    </tr>\n",
              "    <tr>\n",
              "      <th>changed</th>\n",
              "      <td>1</td>\n",
              "    </tr>\n",
              "    <tr>\n",
              "      <th>compares</th>\n",
              "      <td>1</td>\n",
              "    </tr>\n",
              "    <tr>\n",
              "      <th>dead</th>\n",
              "      <td>1</td>\n",
              "    </tr>\n",
              "    <tr>\n",
              "      <th>for</th>\n",
              "      <td>3</td>\n",
              "    </tr>\n",
              "    <tr>\n",
              "      <th>forever,</th>\n",
              "      <td>1</td>\n",
              "    </tr>\n",
              "    <tr>\n",
              "      <th>friends</th>\n",
              "      <td>2</td>\n",
              "    </tr>\n",
              "    <tr>\n",
              "      <th>gone</th>\n",
              "      <td>1</td>\n",
              "    </tr>\n",
              "    <tr>\n",
              "      <th>had</th>\n",
              "      <td>1</td>\n",
              "    </tr>\n",
              "    <tr>\n",
              "      <th>have</th>\n",
              "      <td>2</td>\n",
              "    </tr>\n",
              "    <tr>\n",
              "      <th>in</th>\n",
              "      <td>4</td>\n",
              "    </tr>\n",
              "    <tr>\n",
              "      <th>is</th>\n",
              "      <td>1</td>\n",
              "    </tr>\n",
              "    <tr>\n",
              "      <th>know</th>\n",
              "      <td>4</td>\n",
              "    </tr>\n",
              "    <tr>\n",
              "      <th>life</th>\n",
              "      <td>5</td>\n",
              "    </tr>\n",
              "    <tr>\n",
              "      <th>living</th>\n",
              "      <td>1</td>\n",
              "    </tr>\n",
              "    <tr>\n",
              "      <th>lose</th>\n",
              "      <td>3</td>\n",
              "    </tr>\n",
              "    <tr>\n",
              "      <th>love</th>\n",
              "      <td>4</td>\n",
              "    </tr>\n",
              "    <tr>\n",
              "      <th>loved</th>\n",
              "      <td>1</td>\n",
              "    </tr>\n",
              "    <tr>\n",
              "      <th>lovers</th>\n",
              "      <td>2</td>\n",
              "    </tr>\n",
              "    <tr>\n",
              "      <th>meaning</th>\n",
              "      <td>1</td>\n",
              "    </tr>\n",
              "    <tr>\n",
              "      <th>memories</th>\n",
              "      <td>1</td>\n",
              "    </tr>\n",
              "    <tr>\n",
              "      <th>moments</th>\n",
              "      <td>1</td>\n",
              "    </tr>\n",
              "    <tr>\n",
              "      <th>more</th>\n",
              "      <td>3</td>\n",
              "    </tr>\n",
              "    <tr>\n",
              "      <th>my</th>\n",
              "      <td>5</td>\n",
              "    </tr>\n",
              "    <tr>\n",
              "      <th>never</th>\n",
              "      <td>2</td>\n",
              "    </tr>\n",
              "    <tr>\n",
              "      <th>new</th>\n",
              "      <td>1</td>\n",
              "    </tr>\n",
              "    <tr>\n",
              "      <th>no</th>\n",
              "      <td>1</td>\n",
              "    </tr>\n",
              "    <tr>\n",
              "      <th>not</th>\n",
              "      <td>1</td>\n",
              "    </tr>\n",
              "    <tr>\n",
              "      <th>of</th>\n",
              "      <td>2</td>\n",
              "    </tr>\n",
              "    <tr>\n",
              "      <th>often</th>\n",
              "      <td>2</td>\n",
              "    </tr>\n",
              "    <tr>\n",
              "      <th>one</th>\n",
              "      <td>1</td>\n",
              "    </tr>\n",
              "    <tr>\n",
              "      <th>people</th>\n",
              "      <td>2</td>\n",
              "    </tr>\n",
              "    <tr>\n",
              "      <th>places</th>\n",
              "      <td>2</td>\n",
              "    </tr>\n",
              "    <tr>\n",
              "      <th>recall</th>\n",
              "      <td>1</td>\n",
              "    </tr>\n",
              "    <tr>\n",
              "      <th>remain</th>\n",
              "      <td>1</td>\n",
              "    </tr>\n",
              "    <tr>\n",
              "      <th>remember</th>\n",
              "      <td>1</td>\n",
              "    </tr>\n",
              "    <tr>\n",
              "      <th>some</th>\n",
              "      <td>6</td>\n",
              "    </tr>\n",
              "    <tr>\n",
              "      <th>something</th>\n",
              "      <td>1</td>\n",
              "    </tr>\n",
              "  </tbody>\n",
              "</table>\n",
              "</div>"
            ],
            "text/plain": [
              "col_0      count\n",
              "Words           \n",
              "I              6\n",
              "Ill            8\n",
              "Ive            1\n",
              "about          2\n",
              "affection      2\n",
              "all            4\n",
              "and            9\n",
              "are            3\n",
              "as             1\n",
              "before         2\n",
              "better         1\n",
              "but            1\n",
              "can            1\n",
              "changed        1\n",
              "compares       1\n",
              "dead           1\n",
              "for            3\n",
              "forever,       1\n",
              "friends        2\n",
              "gone           1\n",
              "had            1\n",
              "have           2\n",
              "in             4\n",
              "is             1\n",
              "know           4\n",
              "life           5\n",
              "living         1\n",
              "lose           3\n",
              "love           4\n",
              "loved          1\n",
              "lovers         2\n",
              "meaning        1\n",
              "memories       1\n",
              "moments        1\n",
              "more           3\n",
              "my             5\n",
              "never          2\n",
              "new            1\n",
              "no             1\n",
              "not            1\n",
              "of             2\n",
              "often          2\n",
              "one            1\n",
              "people         2\n",
              "places         2\n",
              "recall         1\n",
              "remain         1\n",
              "remember       1\n",
              "some           6\n",
              "something      1"
            ]
          },
          "metadata": {
            "tags": []
          },
          "execution_count": 29
        }
      ]
    },
    {
      "cell_type": "markdown",
      "metadata": {
        "id": "afk-BeJxxMew"
      },
      "source": [
        "Let's compare In My Life to Penny Lane (McCartney), Strawberry Fields (Lennon) and From Me to You (Lennon, McCartney)"
      ]
    },
    {
      "cell_type": "code",
      "metadata": {
        "id": "SrR03CRqnBPr",
        "outputId": "7fefa3dc-365c-427b-f8c3-f37e2b5022aa",
        "colab": {
          "base_uri": "https://localhost:8080/",
          "height": 34
        }
      },
      "source": [
        "# Compare Penny Lane to In My LIfe\n",
        "\n",
        "from numpy import dot\n",
        "from numpy.linalg import norm\n",
        "\n",
        "dfs = [Lane_df_freq, Life_df_freq]\n",
        "\n",
        "all_words = pd.concat(dfs, axis=1)\n",
        "all_words = all_words.fillna(0)\n",
        "all_words.columns = [\"Penny Lane\", \"In My Life\"]\n",
        "all_words[0:50]\n",
        "\n",
        "\n",
        "cos_sim = dot(all_words[\"Penny Lane\"], all_words[\"In My Life\"])/(norm(all_words[\"Penny Lane\"])*norm(all_words[\"In My Life\"]))\n",
        "\n",
        "print(cos_sim)"
      ],
      "execution_count": null,
      "outputs": [
        {
          "output_type": "stream",
          "text": [
            "0.35376193243365495\n"
          ],
          "name": "stdout"
        }
      ]
    },
    {
      "cell_type": "code",
      "metadata": {
        "id": "7JBrYJFX87_N",
        "outputId": "d718b531-20f9-453d-d1fa-ca5798f9acad",
        "colab": {
          "base_uri": "https://localhost:8080/",
          "height": 34
        }
      },
      "source": [
        "# Compare Strawberry Fields to In My LIfe\n",
        "\n",
        "from numpy import dot\n",
        "from numpy.linalg import norm\n",
        "\n",
        "dfs = [Strawberry_df_freq, Life_df_freq]\n",
        "\n",
        "all_words = pd.concat(dfs, axis=1)\n",
        "all_words = all_words.fillna(0)\n",
        "all_words.columns = [\"Strawberry Fields\", \"In My Life\"]\n",
        "all_words[0:50]\n",
        "\n",
        "\n",
        "cos_sim = dot(all_words[\"Strawberry Fields\"], all_words[\"In My Life\"])/(norm(all_words[\"Strawberry Fields\"])*norm(all_words[\"In My Life\"]))\n",
        "\n",
        "print(cos_sim)\n",
        "\n",
        "\n",
        "\n"
      ],
      "execution_count": null,
      "outputs": [
        {
          "output_type": "stream",
          "text": [
            "0.29313341167173035\n"
          ],
          "name": "stdout"
        }
      ]
    },
    {
      "cell_type": "code",
      "metadata": {
        "id": "SxfS_30H5O0o",
        "outputId": "a677a467-0d67-476f-d476-4556ef77bec2",
        "colab": {
          "base_uri": "https://localhost:8080/",
          "height": 34
        }
      },
      "source": [
        "# Compare In My Life to From Me to You\n",
        "\n",
        "from numpy import dot\n",
        "from numpy.linalg import norm\n",
        "\n",
        "dfs = [Life_df_freq, Me_df_freq]\n",
        "\n",
        "all_words = pd.concat(dfs, axis=1)\n",
        "all_words = all_words.fillna(0)\n",
        "all_words.columns = [\"In My Life\", \"From Me to You\"]\n",
        "all_words[0:50]\n",
        "\n",
        "\n",
        "cos_sim = dot(all_words[\"In My Life\"], all_words[\"From Me to You\"])/(norm(all_words[\"In My Life\"])*norm(all_words[\"From Me to You\"]))\n",
        "\n",
        "print(cos_sim)\n"
      ],
      "execution_count": null,
      "outputs": [
        {
          "output_type": "stream",
          "text": [
            "0.33677745450264224\n"
          ],
          "name": "stdout"
        }
      ]
    },
    {
      "cell_type": "markdown",
      "metadata": {
        "id": "ozNE0L2apPFm"
      },
      "source": [
        "> **The cosine similarity between In My Life to all three other songs is higher than the cosine similarity between Strawberry Fields and Penny Lane.**\n",
        "\n",
        "> **It is highest between In My Life and Penny Lane, followed by From Me to You.  In My Life is least Similar to Strawberry Fields.**\n",
        "\n",
        "From the Wikipedia article about the Lennon-McCartney collaboration: \n",
        "\n",
        "> #### In 1977, when shown a list of songs Lennon claimed writing on for the magazine Hit Parader, McCartney disputed only \"In My Life\". Lennon said that McCartney helped only with \"the middle eight\" (a short section) of the song. McCartney said that he wrote the entire melody, taking inspiration from Smokey Robinson songs.\n",
        "\n",
        "Perhaps this analysis gives additional evidence that McCartney really did write all of In My Life."
      ]
    }
  ]
}